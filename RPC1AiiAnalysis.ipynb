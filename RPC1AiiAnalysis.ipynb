{
 "cells": [
  {
   "cell_type": "code",
   "execution_count": 1,
   "outputs": [],
   "source": [
    "#Used Libraries\n",
    "import pandas as pd\n",
    "import pyodbc\n",
    "import sqlalchemy as sal\n",
    "from sqlalchemy import create_engine"
   ],
   "metadata": {
    "collapsed": false,
    "pycharm": {
     "name": "#%%\n"
    }
   }
  },
  {
   "cell_type": "code",
   "execution_count": 2,
   "outputs": [],
   "source": [
    "#Connect to Data Structure for sqlalchemy is: \"mssql+pyodbc://OpR-Marc-DB2:1433/RPC1?driver=ODBC+Driver+17+for+SQL+Server\" --change RPC1 for other volumes\n",
    "\n",
    "RPC1 = sal.create_engine(\"mssql+pyodbc://OpR-Marc-DB2:1433/RPC1?driver=ODBC+Driver+17+for+SQL+Server\")\n",
    "connection = RPC1.connect()\n",
    "\n",
    "RC1 = sal.create_engine(\"mssql+pyodbc://OpR-Marc-DB2:1433/RC1?driver=ODBC+Driver+17+for+SQL+Server\")\n",
    "connection = RC1.connect()"
   ],
   "metadata": {
    "collapsed": false,
    "pycharm": {
     "name": "#%%\n"
    }
   }
  },
  {
   "cell_type": "code",
   "execution_count": 3,
   "outputs": [],
   "source": [
    "RPC1RibbonInputDF = pd.DataFrame()\n",
    "RC1RibbonInputDF = pd.DataFrame()"
   ],
   "metadata": {
    "collapsed": false,
    "pycharm": {
     "name": "#%%\n"
    }
   }
  },
  {
   "cell_type": "code",
   "execution_count": 4,
   "outputs": [],
   "source": [
    "RC1Aiis= [\"514\", \"3679\", \"2610\", \"410\"]\n",
    "RPC1Aiis = [\"192\", \"262\", \"265\", \"1685\", \"2710\"]"
   ],
   "metadata": {
    "collapsed": false,
    "pycharm": {
     "name": "#%%\n"
    }
   }
  },
  {
   "cell_type": "code",
   "execution_count": 5,
   "outputs": [
    {
     "name": "stderr",
     "output_type": "stream",
     "text": [
      "C:\\Users\\u0705824\\AppData\\Local\\Temp\\ipykernel_60776\\1303857582.py:5: FutureWarning: The frame.append method is deprecated and will be removed from pandas in a future version. Use pandas.concat instead.\n",
      "  RPC1RibbonInputDF = RPC1RibbonInputDF.append(RI)\n",
      "C:\\Users\\u0705824\\AppData\\Local\\Temp\\ipykernel_60776\\1303857582.py:5: FutureWarning: The frame.append method is deprecated and will be removed from pandas in a future version. Use pandas.concat instead.\n",
      "  RPC1RibbonInputDF = RPC1RibbonInputDF.append(RI)\n",
      "C:\\Users\\u0705824\\AppData\\Local\\Temp\\ipykernel_60776\\1303857582.py:5: FutureWarning: The frame.append method is deprecated and will be removed from pandas in a future version. Use pandas.concat instead.\n",
      "  RPC1RibbonInputDF = RPC1RibbonInputDF.append(RI)\n",
      "C:\\Users\\u0705824\\AppData\\Local\\Temp\\ipykernel_60776\\1303857582.py:5: FutureWarning: The frame.append method is deprecated and will be removed from pandas in a future version. Use pandas.concat instead.\n",
      "  RPC1RibbonInputDF = RPC1RibbonInputDF.append(RI)\n",
      "C:\\Users\\u0705824\\AppData\\Local\\Temp\\ipykernel_60776\\1303857582.py:5: FutureWarning: The frame.append method is deprecated and will be removed from pandas in a future version. Use pandas.concat instead.\n",
      "  RPC1RibbonInputDF = RPC1RibbonInputDF.append(RI)\n"
     ]
    },
    {
     "data": {
      "text/plain": "    SourceParent SourceParentLabel  SourceStructureType  SourceID  TargetID  \\\n0          48706                BC                   73     48707     48651   \n1              1               CBa                   73        24     42960   \n2              1               CBa                   73        24     42961   \n3              1               CBa                   73     26244     32501   \n4              1               CBa                   73     49174     24848   \n..           ...               ...                  ...       ...       ...   \n66          1069             RodBC                   73     30780     38779   \n67          1069             RodBC                   73     30783     30791   \n68          1069             RodBC                   73     30784     30789   \n69          1069             RodBC                   73     25935     38220   \n70          1069             RodBC                   73     38141     38140   \n\n    TargetParent TargetParentLabel  \\\n0            192           GAC Aii   \n1            192           GAC Aii   \n2            192           GAC Aii   \n3            192           GAC Aii   \n4            192           GAC Aii   \n..           ...               ...   \n66          2710           GAC Aii   \n67          2710           GAC Aii   \n68          2710           GAC Aii   \n69          2710           GAC Aii   \n70          2710           GAC Aii   \n\n                                                Notes       PSDArea  \n0                                                       8814.989372  \n1   \\n*****BEGIN MERGE FROM 26243*****\\nPossible b...   6480.857717  \n2   \\n*****BEGIN MERGE FROM 26243*****\\nPossible b...   8332.312104  \n3   \\n*****BEGIN MERGE FROM 26243*****\\nPossible b...  10170.574687  \n4   \\n*****BEGIN MERGE FROM 26243*****\\nPossible b...  15649.935906  \n..                                                ...           ...  \n66  \\n\\nMay branch here\\nX: 12947.4     Y: 10473.2...  36895.515145  \n67  \\n\\nMay branch here\\nX: 12947.4     Y: 10473.2...  57889.939095  \n68  \\n\\nMay branch here\\nX: 12947.4     Y: 10473.2...  46624.135193  \n69  \\n\\nMay branch here\\nX: 12947.4     Y: 10473.2...  40314.379080  \n70  \\n\\nMay branch here\\nX: 12947.4     Y: 10473.2...   9816.154830  \n\n[371 rows x 9 columns]",
      "text/html": "<div>\n<style scoped>\n    .dataframe tbody tr th:only-of-type {\n        vertical-align: middle;\n    }\n\n    .dataframe tbody tr th {\n        vertical-align: top;\n    }\n\n    .dataframe thead th {\n        text-align: right;\n    }\n</style>\n<table border=\"1\" class=\"dataframe\">\n  <thead>\n    <tr style=\"text-align: right;\">\n      <th></th>\n      <th>SourceParent</th>\n      <th>SourceParentLabel</th>\n      <th>SourceStructureType</th>\n      <th>SourceID</th>\n      <th>TargetID</th>\n      <th>TargetParent</th>\n      <th>TargetParentLabel</th>\n      <th>Notes</th>\n      <th>PSDArea</th>\n    </tr>\n  </thead>\n  <tbody>\n    <tr>\n      <th>0</th>\n      <td>48706</td>\n      <td>BC</td>\n      <td>73</td>\n      <td>48707</td>\n      <td>48651</td>\n      <td>192</td>\n      <td>GAC Aii</td>\n      <td></td>\n      <td>8814.989372</td>\n    </tr>\n    <tr>\n      <th>1</th>\n      <td>1</td>\n      <td>CBa</td>\n      <td>73</td>\n      <td>24</td>\n      <td>42960</td>\n      <td>192</td>\n      <td>GAC Aii</td>\n      <td>\\n*****BEGIN MERGE FROM 26243*****\\nPossible b...</td>\n      <td>6480.857717</td>\n    </tr>\n    <tr>\n      <th>2</th>\n      <td>1</td>\n      <td>CBa</td>\n      <td>73</td>\n      <td>24</td>\n      <td>42961</td>\n      <td>192</td>\n      <td>GAC Aii</td>\n      <td>\\n*****BEGIN MERGE FROM 26243*****\\nPossible b...</td>\n      <td>8332.312104</td>\n    </tr>\n    <tr>\n      <th>3</th>\n      <td>1</td>\n      <td>CBa</td>\n      <td>73</td>\n      <td>26244</td>\n      <td>32501</td>\n      <td>192</td>\n      <td>GAC Aii</td>\n      <td>\\n*****BEGIN MERGE FROM 26243*****\\nPossible b...</td>\n      <td>10170.574687</td>\n    </tr>\n    <tr>\n      <th>4</th>\n      <td>1</td>\n      <td>CBa</td>\n      <td>73</td>\n      <td>49174</td>\n      <td>24848</td>\n      <td>192</td>\n      <td>GAC Aii</td>\n      <td>\\n*****BEGIN MERGE FROM 26243*****\\nPossible b...</td>\n      <td>15649.935906</td>\n    </tr>\n    <tr>\n      <th>...</th>\n      <td>...</td>\n      <td>...</td>\n      <td>...</td>\n      <td>...</td>\n      <td>...</td>\n      <td>...</td>\n      <td>...</td>\n      <td>...</td>\n      <td>...</td>\n    </tr>\n    <tr>\n      <th>66</th>\n      <td>1069</td>\n      <td>RodBC</td>\n      <td>73</td>\n      <td>30780</td>\n      <td>38779</td>\n      <td>2710</td>\n      <td>GAC Aii</td>\n      <td>\\n\\nMay branch here\\nX: 12947.4     Y: 10473.2...</td>\n      <td>36895.515145</td>\n    </tr>\n    <tr>\n      <th>67</th>\n      <td>1069</td>\n      <td>RodBC</td>\n      <td>73</td>\n      <td>30783</td>\n      <td>30791</td>\n      <td>2710</td>\n      <td>GAC Aii</td>\n      <td>\\n\\nMay branch here\\nX: 12947.4     Y: 10473.2...</td>\n      <td>57889.939095</td>\n    </tr>\n    <tr>\n      <th>68</th>\n      <td>1069</td>\n      <td>RodBC</td>\n      <td>73</td>\n      <td>30784</td>\n      <td>30789</td>\n      <td>2710</td>\n      <td>GAC Aii</td>\n      <td>\\n\\nMay branch here\\nX: 12947.4     Y: 10473.2...</td>\n      <td>46624.135193</td>\n    </tr>\n    <tr>\n      <th>69</th>\n      <td>1069</td>\n      <td>RodBC</td>\n      <td>73</td>\n      <td>25935</td>\n      <td>38220</td>\n      <td>2710</td>\n      <td>GAC Aii</td>\n      <td>\\n\\nMay branch here\\nX: 12947.4     Y: 10473.2...</td>\n      <td>40314.379080</td>\n    </tr>\n    <tr>\n      <th>70</th>\n      <td>1069</td>\n      <td>RodBC</td>\n      <td>73</td>\n      <td>38141</td>\n      <td>38140</td>\n      <td>2710</td>\n      <td>GAC Aii</td>\n      <td>\\n\\nMay branch here\\nX: 12947.4     Y: 10473.2...</td>\n      <td>9816.154830</td>\n    </tr>\n  </tbody>\n</table>\n<p>371 rows × 9 columns</p>\n</div>"
     },
     "execution_count": 5,
     "metadata": {},
     "output_type": "execute_result"
    }
   ],
   "source": [
    "#Pull Data from RPC1\n",
    "for x in RPC1Aiis:\n",
    "    query = \"SET NOCOUNT ON; EXEC RLPfeiffer.RibbonInputs @TargetCell= \" + \"'\" + x + \"'\"\n",
    "    RI = pd.read_sql(query, con = RPC1)\n",
    "    RPC1RibbonInputDF = RPC1RibbonInputDF.append(RI)\n",
    "\n",
    "RPC1RibbonInputDF"
   ],
   "metadata": {
    "collapsed": false,
    "pycharm": {
     "name": "#%%\n"
    }
   }
  },
  {
   "cell_type": "code",
   "execution_count": 6,
   "outputs": [],
   "source": [
    "#Fix any odd names in RPC1 DF or simplify *This is currently a manual step)\n",
    "RPC1RibbonInputDF.replace('CBa?', \"CBa\", inplace=True)\n",
    "RPC1RibbonInputDF.replace('CBbwf', \"CBb\", inplace=True)"
   ],
   "metadata": {
    "collapsed": false,
    "pycharm": {
     "name": "#%%\n"
    }
   }
  },
  {
   "cell_type": "code",
   "execution_count": 7,
   "outputs": [
    {
     "data": {
      "text/plain": "RodBC    250\nCBa       88\nCBb       29\nBC         4\nName: SourceParentLabel, dtype: int64"
     },
     "execution_count": 7,
     "metadata": {},
     "output_type": "execute_result"
    }
   ],
   "source": [
    "#Check that only expected Source Labels are in the RPC1 DF\n",
    "RPC1RibbonInputDF.SourceParentLabel.value_counts()"
   ],
   "metadata": {
    "collapsed": false,
    "pycharm": {
     "name": "#%%\n"
    }
   }
  },
  {
   "cell_type": "code",
   "execution_count": 8,
   "outputs": [
    {
     "name": "stderr",
     "output_type": "stream",
     "text": [
      "C:\\Users\\u0705824\\AppData\\Local\\Temp\\ipykernel_60776\\2961576669.py:5: FutureWarning: The frame.append method is deprecated and will be removed from pandas in a future version. Use pandas.concat instead.\n",
      "  RC1RibbonInputDF = RC1RibbonInputDF.append(RI)\n",
      "C:\\Users\\u0705824\\AppData\\Local\\Temp\\ipykernel_60776\\2961576669.py:5: FutureWarning: The frame.append method is deprecated and will be removed from pandas in a future version. Use pandas.concat instead.\n",
      "  RC1RibbonInputDF = RC1RibbonInputDF.append(RI)\n",
      "C:\\Users\\u0705824\\AppData\\Local\\Temp\\ipykernel_60776\\2961576669.py:5: FutureWarning: The frame.append method is deprecated and will be removed from pandas in a future version. Use pandas.concat instead.\n",
      "  RC1RibbonInputDF = RC1RibbonInputDF.append(RI)\n",
      "C:\\Users\\u0705824\\AppData\\Local\\Temp\\ipykernel_60776\\2961576669.py:5: FutureWarning: The frame.append method is deprecated and will be removed from pandas in a future version. Use pandas.concat instead.\n",
      "  RC1RibbonInputDF = RC1RibbonInputDF.append(RI)\n"
     ]
    },
    {
     "data": {
      "text/plain": "    SourceParent SourceParentLabel  SourceStructureType  SourceID  TargetID  \\\n0         163236               CBa                   73    163238    163239   \n1          66199               CBa                   73    163269    163458   \n2         163296               CBa                   73    163297    163461   \n3          65835               CBa                   73    163317    163316   \n4         163296               CBa                   73    163320    163319   \n..           ...               ...                  ...       ...       ...   \n91         15942             RodBC                   73     19122     19123   \n92          6163             RodBC                   73     19147    166812   \n93           380             RodBC                   73     20944    165687   \n94          6618             RodBC                   73     22485     22487   \n95          6618             RodBC                   73     22499     22498   \n\n    TargetParent TargetParentLabel Notes       PSDArea  \n0            514           GAC Aii        38942.219271  \n1            514           GAC Aii         4809.075919  \n2            514           GAC Aii         7866.218009  \n3            514           GAC Aii        10584.318083  \n4            514           GAC Aii         8407.711217  \n..           ...               ...   ...           ...  \n91           410           GAC Aii        42612.059245  \n92           410           GAC Aii         6562.838091  \n93           410           GAC Aii        37660.020854  \n94           410           GAC Aii        16877.605747  \n95           410           GAC Aii        18730.780358  \n\n[415 rows x 9 columns]",
      "text/html": "<div>\n<style scoped>\n    .dataframe tbody tr th:only-of-type {\n        vertical-align: middle;\n    }\n\n    .dataframe tbody tr th {\n        vertical-align: top;\n    }\n\n    .dataframe thead th {\n        text-align: right;\n    }\n</style>\n<table border=\"1\" class=\"dataframe\">\n  <thead>\n    <tr style=\"text-align: right;\">\n      <th></th>\n      <th>SourceParent</th>\n      <th>SourceParentLabel</th>\n      <th>SourceStructureType</th>\n      <th>SourceID</th>\n      <th>TargetID</th>\n      <th>TargetParent</th>\n      <th>TargetParentLabel</th>\n      <th>Notes</th>\n      <th>PSDArea</th>\n    </tr>\n  </thead>\n  <tbody>\n    <tr>\n      <th>0</th>\n      <td>163236</td>\n      <td>CBa</td>\n      <td>73</td>\n      <td>163238</td>\n      <td>163239</td>\n      <td>514</td>\n      <td>GAC Aii</td>\n      <td></td>\n      <td>38942.219271</td>\n    </tr>\n    <tr>\n      <th>1</th>\n      <td>66199</td>\n      <td>CBa</td>\n      <td>73</td>\n      <td>163269</td>\n      <td>163458</td>\n      <td>514</td>\n      <td>GAC Aii</td>\n      <td></td>\n      <td>4809.075919</td>\n    </tr>\n    <tr>\n      <th>2</th>\n      <td>163296</td>\n      <td>CBa</td>\n      <td>73</td>\n      <td>163297</td>\n      <td>163461</td>\n      <td>514</td>\n      <td>GAC Aii</td>\n      <td></td>\n      <td>7866.218009</td>\n    </tr>\n    <tr>\n      <th>3</th>\n      <td>65835</td>\n      <td>CBa</td>\n      <td>73</td>\n      <td>163317</td>\n      <td>163316</td>\n      <td>514</td>\n      <td>GAC Aii</td>\n      <td></td>\n      <td>10584.318083</td>\n    </tr>\n    <tr>\n      <th>4</th>\n      <td>163296</td>\n      <td>CBa</td>\n      <td>73</td>\n      <td>163320</td>\n      <td>163319</td>\n      <td>514</td>\n      <td>GAC Aii</td>\n      <td></td>\n      <td>8407.711217</td>\n    </tr>\n    <tr>\n      <th>...</th>\n      <td>...</td>\n      <td>...</td>\n      <td>...</td>\n      <td>...</td>\n      <td>...</td>\n      <td>...</td>\n      <td>...</td>\n      <td>...</td>\n      <td>...</td>\n    </tr>\n    <tr>\n      <th>91</th>\n      <td>15942</td>\n      <td>RodBC</td>\n      <td>73</td>\n      <td>19122</td>\n      <td>19123</td>\n      <td>410</td>\n      <td>GAC Aii</td>\n      <td></td>\n      <td>42612.059245</td>\n    </tr>\n    <tr>\n      <th>92</th>\n      <td>6163</td>\n      <td>RodBC</td>\n      <td>73</td>\n      <td>19147</td>\n      <td>166812</td>\n      <td>410</td>\n      <td>GAC Aii</td>\n      <td></td>\n      <td>6562.838091</td>\n    </tr>\n    <tr>\n      <th>93</th>\n      <td>380</td>\n      <td>RodBC</td>\n      <td>73</td>\n      <td>20944</td>\n      <td>165687</td>\n      <td>410</td>\n      <td>GAC Aii</td>\n      <td></td>\n      <td>37660.020854</td>\n    </tr>\n    <tr>\n      <th>94</th>\n      <td>6618</td>\n      <td>RodBC</td>\n      <td>73</td>\n      <td>22485</td>\n      <td>22487</td>\n      <td>410</td>\n      <td>GAC Aii</td>\n      <td></td>\n      <td>16877.605747</td>\n    </tr>\n    <tr>\n      <th>95</th>\n      <td>6618</td>\n      <td>RodBC</td>\n      <td>73</td>\n      <td>22499</td>\n      <td>22498</td>\n      <td>410</td>\n      <td>GAC Aii</td>\n      <td></td>\n      <td>18730.780358</td>\n    </tr>\n  </tbody>\n</table>\n<p>415 rows × 9 columns</p>\n</div>"
     },
     "execution_count": 8,
     "metadata": {},
     "output_type": "execute_result"
    }
   ],
   "source": [
    "#Pull data from RC1\n",
    "for x in RC1Aiis:\n",
    "    query = \"SET NOCOUNT ON; EXEC RLPfeiffer.RibbonInputs @TargetCell= \" + \"'\" + x + \"'\"\n",
    "    RI = pd.read_sql(query, con = RC1)\n",
    "    RC1RibbonInputDF = RC1RibbonInputDF.append(RI)\n",
    "\n",
    "RC1RibbonInputDF"
   ],
   "metadata": {
    "collapsed": false,
    "pycharm": {
     "name": "#%%\n"
    }
   }
  },
  {
   "cell_type": "code",
   "execution_count": 9,
   "outputs": [],
   "source": [
    "#Fix all expanded names in RC1 (subclasses of BCs beyond a and b are excluded in this analysis)\n",
    "RC1RibbonInputDF.replace('CBa?', \"CBa\", inplace=True)\n",
    "RC1RibbonInputDF.replace('CBa1', \"CBa\", inplace=True)\n",
    "RC1RibbonInputDF.replace('CBa2', \"CBa\", inplace=True)\n",
    "RC1RibbonInputDF.replace('CBa2-4', \"CBa\", inplace=True)\n",
    "RC1RibbonInputDF.replace('CBb6', \"CBb\", inplace=True)\n",
    "RC1RibbonInputDF.replace('CBb5', \"CBb\", inplace=True)\n",
    "RC1RibbonInputDF.replace('CBbwf', \"CBb\", inplace=True)"
   ],
   "metadata": {
    "collapsed": false,
    "pycharm": {
     "name": "#%%\n"
    }
   }
  },
  {
   "cell_type": "code",
   "execution_count": 10,
   "outputs": [
    {
     "data": {
      "text/plain": "RodBC    350\nCBa       52\nCBb        8\nBC         4\nName: SourceParentLabel, dtype: int64"
     },
     "execution_count": 10,
     "metadata": {},
     "output_type": "execute_result"
    }
   ],
   "source": [
    "#Check that only expected Source Labels are in the RPC1 DF\n",
    "RC1RibbonInputDF.SourceParentLabel.value_counts()"
   ],
   "metadata": {
    "collapsed": false,
    "pycharm": {
     "name": "#%%\n"
    }
   }
  },
  {
   "cell_type": "code",
   "execution_count": 11,
   "outputs": [],
   "source": [
    "#Reset indexes\n",
    "RC1RibbonInputDF = RC1RibbonInputDF.reset_index(drop = True)\n",
    "RPC1RibbonInputDF = RPC1RibbonInputDF.reset_index(drop = True)"
   ],
   "metadata": {
    "collapsed": false,
    "pycharm": {
     "name": "#%%\n"
    }
   }
  },
  {
   "cell_type": "code",
   "execution_count": 12,
   "outputs": [],
   "source": [
    "#Label the volume source in the DFs\n",
    "RPC1RibbonInputDF[\"Volume\"]= 'RPC1'\n",
    "RC1RibbonInputDF[\"Volume\"]= 'RC1'"
   ],
   "metadata": {
    "collapsed": false,
    "pycharm": {
     "name": "#%%\n"
    }
   }
  },
  {
   "cell_type": "code",
   "execution_count": 13,
   "outputs": [],
   "source": [
    "#Created a combined DF\n",
    "CombinedRibbonInputDF = pd.concat([RPC1RibbonInputDF, RC1RibbonInputDF]).reset_index()"
   ],
   "metadata": {
    "collapsed": false,
    "pycharm": {
     "name": "#%%\n"
    }
   }
  },
  {
   "cell_type": "code",
   "execution_count": 14,
   "outputs": [
    {
     "data": {
      "text/plain": "     index  SourceParent SourceParentLabel  SourceStructureType  SourceID  \\\n0        0         48706                BC                   73     48707   \n1        1             1               CBa                   73        24   \n2        2             1               CBa                   73        24   \n3        3             1               CBa                   73     26244   \n4        4             1               CBa                   73     49174   \n..     ...           ...               ...                  ...       ...   \n781    410         15942             RodBC                   73     19122   \n782    411          6163             RodBC                   73     19147   \n783    412           380             RodBC                   73     20944   \n784    413          6618             RodBC                   73     22485   \n785    414          6618             RodBC                   73     22499   \n\n     TargetID  TargetParent TargetParentLabel  \\\n0       48651           192           GAC Aii   \n1       42960           192           GAC Aii   \n2       42961           192           GAC Aii   \n3       32501           192           GAC Aii   \n4       24848           192           GAC Aii   \n..        ...           ...               ...   \n781     19123           410           GAC Aii   \n782    166812           410           GAC Aii   \n783    165687           410           GAC Aii   \n784     22487           410           GAC Aii   \n785     22498           410           GAC Aii   \n\n                                                 Notes       PSDArea Volume  \n0                                                        8814.989372   RPC1  \n1    \\n*****BEGIN MERGE FROM 26243*****\\nPossible b...   6480.857717   RPC1  \n2    \\n*****BEGIN MERGE FROM 26243*****\\nPossible b...   8332.312104   RPC1  \n3    \\n*****BEGIN MERGE FROM 26243*****\\nPossible b...  10170.574687   RPC1  \n4    \\n*****BEGIN MERGE FROM 26243*****\\nPossible b...  15649.935906   RPC1  \n..                                                 ...           ...    ...  \n781                                                     42612.059245    RC1  \n782                                                      6562.838091    RC1  \n783                                                     37660.020854    RC1  \n784                                                     16877.605747    RC1  \n785                                                     18730.780358    RC1  \n\n[786 rows x 11 columns]",
      "text/html": "<div>\n<style scoped>\n    .dataframe tbody tr th:only-of-type {\n        vertical-align: middle;\n    }\n\n    .dataframe tbody tr th {\n        vertical-align: top;\n    }\n\n    .dataframe thead th {\n        text-align: right;\n    }\n</style>\n<table border=\"1\" class=\"dataframe\">\n  <thead>\n    <tr style=\"text-align: right;\">\n      <th></th>\n      <th>index</th>\n      <th>SourceParent</th>\n      <th>SourceParentLabel</th>\n      <th>SourceStructureType</th>\n      <th>SourceID</th>\n      <th>TargetID</th>\n      <th>TargetParent</th>\n      <th>TargetParentLabel</th>\n      <th>Notes</th>\n      <th>PSDArea</th>\n      <th>Volume</th>\n    </tr>\n  </thead>\n  <tbody>\n    <tr>\n      <th>0</th>\n      <td>0</td>\n      <td>48706</td>\n      <td>BC</td>\n      <td>73</td>\n      <td>48707</td>\n      <td>48651</td>\n      <td>192</td>\n      <td>GAC Aii</td>\n      <td></td>\n      <td>8814.989372</td>\n      <td>RPC1</td>\n    </tr>\n    <tr>\n      <th>1</th>\n      <td>1</td>\n      <td>1</td>\n      <td>CBa</td>\n      <td>73</td>\n      <td>24</td>\n      <td>42960</td>\n      <td>192</td>\n      <td>GAC Aii</td>\n      <td>\\n*****BEGIN MERGE FROM 26243*****\\nPossible b...</td>\n      <td>6480.857717</td>\n      <td>RPC1</td>\n    </tr>\n    <tr>\n      <th>2</th>\n      <td>2</td>\n      <td>1</td>\n      <td>CBa</td>\n      <td>73</td>\n      <td>24</td>\n      <td>42961</td>\n      <td>192</td>\n      <td>GAC Aii</td>\n      <td>\\n*****BEGIN MERGE FROM 26243*****\\nPossible b...</td>\n      <td>8332.312104</td>\n      <td>RPC1</td>\n    </tr>\n    <tr>\n      <th>3</th>\n      <td>3</td>\n      <td>1</td>\n      <td>CBa</td>\n      <td>73</td>\n      <td>26244</td>\n      <td>32501</td>\n      <td>192</td>\n      <td>GAC Aii</td>\n      <td>\\n*****BEGIN MERGE FROM 26243*****\\nPossible b...</td>\n      <td>10170.574687</td>\n      <td>RPC1</td>\n    </tr>\n    <tr>\n      <th>4</th>\n      <td>4</td>\n      <td>1</td>\n      <td>CBa</td>\n      <td>73</td>\n      <td>49174</td>\n      <td>24848</td>\n      <td>192</td>\n      <td>GAC Aii</td>\n      <td>\\n*****BEGIN MERGE FROM 26243*****\\nPossible b...</td>\n      <td>15649.935906</td>\n      <td>RPC1</td>\n    </tr>\n    <tr>\n      <th>...</th>\n      <td>...</td>\n      <td>...</td>\n      <td>...</td>\n      <td>...</td>\n      <td>...</td>\n      <td>...</td>\n      <td>...</td>\n      <td>...</td>\n      <td>...</td>\n      <td>...</td>\n      <td>...</td>\n    </tr>\n    <tr>\n      <th>781</th>\n      <td>410</td>\n      <td>15942</td>\n      <td>RodBC</td>\n      <td>73</td>\n      <td>19122</td>\n      <td>19123</td>\n      <td>410</td>\n      <td>GAC Aii</td>\n      <td></td>\n      <td>42612.059245</td>\n      <td>RC1</td>\n    </tr>\n    <tr>\n      <th>782</th>\n      <td>411</td>\n      <td>6163</td>\n      <td>RodBC</td>\n      <td>73</td>\n      <td>19147</td>\n      <td>166812</td>\n      <td>410</td>\n      <td>GAC Aii</td>\n      <td></td>\n      <td>6562.838091</td>\n      <td>RC1</td>\n    </tr>\n    <tr>\n      <th>783</th>\n      <td>412</td>\n      <td>380</td>\n      <td>RodBC</td>\n      <td>73</td>\n      <td>20944</td>\n      <td>165687</td>\n      <td>410</td>\n      <td>GAC Aii</td>\n      <td></td>\n      <td>37660.020854</td>\n      <td>RC1</td>\n    </tr>\n    <tr>\n      <th>784</th>\n      <td>413</td>\n      <td>6618</td>\n      <td>RodBC</td>\n      <td>73</td>\n      <td>22485</td>\n      <td>22487</td>\n      <td>410</td>\n      <td>GAC Aii</td>\n      <td></td>\n      <td>16877.605747</td>\n      <td>RC1</td>\n    </tr>\n    <tr>\n      <th>785</th>\n      <td>414</td>\n      <td>6618</td>\n      <td>RodBC</td>\n      <td>73</td>\n      <td>22499</td>\n      <td>22498</td>\n      <td>410</td>\n      <td>GAC Aii</td>\n      <td></td>\n      <td>18730.780358</td>\n      <td>RC1</td>\n    </tr>\n  </tbody>\n</table>\n<p>786 rows × 11 columns</p>\n</div>"
     },
     "execution_count": 14,
     "metadata": {},
     "output_type": "execute_result"
    }
   ],
   "source": [
    "CombinedRibbonInputDF"
   ],
   "metadata": {
    "collapsed": false,
    "pycharm": {
     "name": "#%%\n"
    }
   }
  },
  {
   "cell_type": "code",
   "execution_count": 15,
   "outputs": [],
   "source": [
    "#Write out all created DFs to excel files for Tableau import/visualization\n",
    "RPC1RibbonInputDF.to_excel(r'D:\\Documents\\Data\\RPC1\\Aii_GAC_Project\\dfExports\\RPC1RibbonInput.xlsx')\n",
    "RC1RibbonInputDF.to_excel(r'D:\\Documents\\Data\\RPC1\\Aii_GAC_Project\\dfExports\\RC1RibbonInput.xlsx')\n",
    "CombinedRibbonInputDF.to_excel(r'D:\\Documents\\Data\\RPC1\\Aii_GAC_Project\\dfExports\\CombinedRibbonInput.xlsx')"
   ],
   "metadata": {
    "collapsed": false,
    "pycharm": {
     "name": "#%%\n"
    }
   }
  }
 ],
 "metadata": {
  "kernelspec": {
   "display_name": "Python 3",
   "language": "python",
   "name": "python3"
  },
  "language_info": {
   "codemirror_mode": {
    "name": "ipython",
    "version": 2
   },
   "file_extension": ".py",
   "mimetype": "text/x-python",
   "name": "python",
   "nbconvert_exporter": "python",
   "pygments_lexer": "ipython2",
   "version": "2.7.6"
  }
 },
 "nbformat": 4,
 "nbformat_minor": 0
}