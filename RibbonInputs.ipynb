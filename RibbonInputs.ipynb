{
 "cells": [
  {
   "cell_type": "code",
   "execution_count": null,
   "metadata": {},
   "outputs": [],
   "source": [
    "import pandas as pd\n",
    "import pyodbc \n",
    "import seaborn as sns\n",
    "import matplotlib.pyplot as plt\n",
    "import sqlalchemy as sal\n",
    "from sqlalchemy import create_engine"
   ]
  },
  {
   "cell_type": "code",
   "execution_count": null,
   "metadata": {},
   "outputs": [],
   "source": [
    "#Connect to Data Structure for sqlalchemy is: \"mssql+pyodbc://OpR-Marc-DB2:1433/RPC1?driver=ODBC+Driver+17+for+SQL+Server\" --change RPC1 for other volumes\n",
    "\n",
    "RPC1 = sal.create_engine(\"mssql+pyodbc://OpR-Marc-DB2:1433/RPC1?driver=ODBC+Driver+17+for+SQL+Server\")\n",
    "connection = RPC1.connect()\n",
    "\n",
    "RC1 = sal.create_engine(\"mssql+pyodbc://OpR-Marc-DB2:1433/RC1?driver=ODBC+Driver+17+for+SQL+Server\")\n",
    "connection = RC1.connect()\n"
   ]
  },
  {
   "cell_type": "code",
   "execution_count": null,
   "metadata": {},
   "outputs": [],
   "source": [
    "RPC1RibbonInputDF = pd.DataFrame()\n",
    "RC1RibbonInputDF = pd.DataFrame()"
   ]
  },
  {
   "cell_type": "code",
   "execution_count": null,
   "metadata": {},
   "outputs": [],
   "source": [
    "RC1Aiis= [\"514\", \"3679\", \"2610\", \"410\"]\n",
    "RPC1Aiis = [\"192\", \"262\", \"265\", \"1685\", \"2710\"]"
   ]
  },
  {
   "cell_type": "code",
   "execution_count": null,
   "metadata": {},
   "outputs": [],
   "source": [
    "#Pull Data from RPC1\n",
    "for x in RPC1Aiis: \n",
    "    query = \"SET NOCOUNT ON; EXEC RLPfeiffer.RibbonInputs @TargetCell= \" + \"'\" + x + \"'\"\n",
    "    RI = pd.read_sql(query, con = RPC1)\n",
    "    RPC1RibbonInputDF = RPC1RibbonInputDF.append(RI)\n",
    "\n",
    "RPC1RibbonInputDF"
   ]
  },
  {
   "cell_type": "code",
   "execution_count": null,
   "metadata": {},
   "outputs": [],
   "source": [
    "#Fix any odd names in RC1 DF or simplify *This is currently a manual step)\n",
    "RPC1RibbonInputDF.replace('CBa?', \"CBa\", inplace=True)\n",
    "RPC1RibbonInputDF.replace('CBbwf', \"CBb\", inplace=True)"
   ]
  },
  {
   "cell_type": "code",
   "execution_count": null,
   "metadata": {},
   "outputs": [],
   "source": [
    "RPC1RibbonInputDF.SourceParentLabel.value_counts()"
   ]
  },
  {
   "cell_type": "code",
   "execution_count": null,
   "metadata": {},
   "outputs": [],
   "source": [
    "RPC1RibbonInputDF = RPC1RibbonInputDF.reset_index(drop = True)"
   ]
  },
  {
   "cell_type": "code",
   "execution_count": null,
   "metadata": {},
   "outputs": [],
   "source": [
    "RPC1RibbonInputDF[[\"SourceParentLabel\", \"PSDArea\"]].groupby(\"SourceParentLabel\").describe()"
   ]
  },
  {
   "cell_type": "code",
   "execution_count": null,
   "metadata": {},
   "outputs": [],
   "source": [
    "#Pull data from RC1\n",
    "for x in RC1Aiis: \n",
    "    query = \"SET NOCOUNT ON; EXEC RLPfeiffer.RibbonInputs @TargetCell= \" + \"'\" + x + \"'\"\n",
    "    RI = pd.read_sql(query, con = RC1)\n",
    "    RC1RibbonInputDF = RC1RibbonInputDF.append(RI)\n",
    "\n",
    "RC1RibbonInputDF"
   ]
  },
  {
   "cell_type": "code",
   "execution_count": null,
   "metadata": {},
   "outputs": [],
   "source": [
    "#Fix all expanded names in RC! (subclasses of BCs beyond a and b are excluded in this analysis)\n",
    "RC1RibbonInputDF.replace('CBa?', \"CBa\", inplace=True)\n",
    "RC1RibbonInputDF.replace('CBa1', \"CBa\", inplace=True)\n",
    "RC1RibbonInputDF.replace('CBa2', \"CBa\", inplace=True)\n",
    "RC1RibbonInputDF.replace('CBa2-4', \"CBa\", inplace=True)\n",
    "RC1RibbonInputDF.replace('CBb6', \"CBb\", inplace=True)\n",
    "RC1RibbonInputDF.replace('CBb5', \"CBb\", inplace=True)\n",
    "RC1RibbonInputDF.replace('CBbwf', \"CBb\", inplace=True)"
   ]
  },
  {
   "cell_type": "code",
   "execution_count": null,
   "metadata": {},
   "outputs": [],
   "source": [
    "RC1RibbonInputDF = RC1RibbonInputDF.reset_index(drop = True)"
   ]
  },
  {
   "cell_type": "code",
   "execution_count": null,
   "metadata": {},
   "outputs": [],
   "source": [
    "RC1RibbonInputDF.SourceParentLabel.value_counts()"
   ]
  },
  {
   "cell_type": "code",
   "execution_count": null,
   "metadata": {},
   "outputs": [],
   "source": [
    "df = RPC1RibbonInputDF\n",
    "df.loc[df[\"PSDArea\"].idxmax()]"
   ]
  },
  {
   "cell_type": "code",
   "execution_count": null,
   "metadata": {},
   "outputs": [],
   "source": [
    "RPC1RibbonInputDF[[\"SourceParentLabel\", \"PSDArea\"]].groupby(\"SourceParentLabel\").describe()"
   ]
  },
  {
   "cell_type": "code",
   "execution_count": null,
   "metadata": {},
   "outputs": [],
   "source": [
    "RC1RibbonInputDF[[\"SourceParentLabel\", \"PSDArea\"]].groupby(\"SourceParentLabel\").describe()"
   ]
  },
  {
   "cell_type": "code",
   "execution_count": null,
   "metadata": {},
   "outputs": [],
   "source": [
    "RPC1RibbonInputDF[[\"SourceParentLabel\", \"PSDArea\"]].groupby(\"SourceParentLabel\").sum()"
   ]
  },
  {
   "cell_type": "code",
   "execution_count": null,
   "metadata": {},
   "outputs": [],
   "source": [
    "RC1RibbonInputDF[[\"SourceParentLabel\", \"PSDArea\"]].groupby(\"SourceParentLabel\").sum()"
   ]
  },
  {
   "cell_type": "code",
   "execution_count": null,
   "metadata": {},
   "outputs": [],
   "source": [
    "ax = plt.subplot()\n",
    "sns.countplot(data=RPC1RibbonInputDF, x='SourceParent', order=RPC1RibbonInputDF.SourceParent.value_counts().index, hue=\"TargetParent\")\n",
    "\n",
    "ax.set_xticklabels(ax.get_xticklabels(), rotation=90, ha='right')\n",
    "ax.legend(loc=\"upper right\")"
   ]
  },
  {
   "cell_type": "code",
   "execution_count": null,
   "metadata": {},
   "outputs": [],
   "source": [
    "#Make comparison bargraphs\n",
    "f, ax = plt.subplots()\n",
    "sns.countplot(data = RPC1RibbonInputDF, x ='SourceParentLabel', order=RPC1RibbonInputDF.SourceParentLabel.value_counts().index, hue=\"TargetParent\")\n",
    "\n",
    "handles, labels = ax.get_legend_handles_labels()\n",
    "ax.set_title('RPC1 Aii Ribbon Inputs')\n",
    "ax.legend( title=\"Aii Target\",\n",
    "          handletextpad=0, columnspacing=1,\n",
    "          loc=\"upper right\",  frameon=True)\n",
    "\n",
    "g, ax2 = plt.subplots()\n",
    "sns.countplot(data = RC1RibbonInputDF, x ='SourceParentLabel', order=RC1RibbonInputDF.SourceParentLabel.value_counts().index, hue=\"TargetParent\")\n",
    "\n",
    "handles, labels = ax.get_legend_handles_labels()\n",
    "ax2.set_title('RC1 Aii Ribbon Inputs')\n",
    "ax2.legend( title=\"Aii Target\",\n",
    "          handletextpad=0, columnspacing=1,\n",
    "          loc=\"upper right\",  frameon=True)"
   ]
  },
  {
   "cell_type": "code",
   "execution_count": null,
   "metadata": {},
   "outputs": [],
   "source": [
    "#create simplified count-based DFs\n",
    "RPC1InputDF = RPC1RibbonInputDF.groupby([\"TargetParent\",\"SourceParentLabel\"])[\"SourceParent\"].value_counts().to_frame(name = 'RibbonInputCount').reset_index()\n",
    "RC1InputDF = RC1RibbonInputDF.groupby([\"TargetParent\",\"SourceParentLabel\"])[\"SourceParent\"].value_counts().to_frame(name = 'RibbonInputCount').reset_index()\n"
   ]
  },
  {
   "cell_type": "code",
   "execution_count": null,
   "metadata": {},
   "outputs": [],
   "source": [
    "RPC1InputDF\n"
   ]
  },
  {
   "cell_type": "code",
   "execution_count": null,
   "metadata": {},
   "outputs": [],
   "source": [
    "\n",
    "RC1InputDF.groupby(\"TargetParent\")['SourceParentLabel'].value_counts()"
   ]
  },
  {
   "cell_type": "code",
   "execution_count": null,
   "metadata": {},
   "outputs": [],
   "source": [
    "\n",
    "RPC1InputDF.groupby(\"TargetParent\")['SourceParentLabel'].value_counts()\n"
   ]
  },
  {
   "cell_type": "code",
   "execution_count": null,
   "metadata": {},
   "outputs": [],
   "source": [
    "AiiGJs\n"
   ]
  },
  {
   "cell_type": "code",
   "execution_count": null,
   "metadata": {},
   "outputs": [],
   "source": [
    "f, ax = plt.subplots()\n",
    "sns.countplot(data = RPC1InputDF, x ='TargetParent', order=RPC1RibbonInputDF.TargetParent.value_counts().index, hue=\"SourceParentLabel\")\n",
    "\n",
    "ax.set_title(label=\"RPC1 Ribbon Input Sources\")\n",
    "ax.set_xlabel('Target GAC Aii')\n",
    "ax.legend(bbox_to_anchor=(1,0.5))\n",
    "\n",
    "g, ax2 = plt.subplots()\n",
    "sns.countplot(data = RC1InputDF, x ='TargetParent', order=RC1RibbonInputDF.TargetParent.value_counts().index, hue=\"SourceParentLabel\")\n",
    "\n",
    "ax2.set_title(label=\"RC1 Ribbon Input Sources\")\n",
    "ax2.set_xlabel('Target GAC Aii')\n",
    "ax2.legend(bbox_to_anchor=(1,0.5))\n",
    "\n",
    "h, ax3 = plt.subplots()\n",
    "sns.barplot(data= AiiGJs, x='TargetAii', y= \"GJCount\", hue = 'GJMotif')\n",
    "ax3.set_title(label=\"GJ Motifs\")\n",
    "ax3.set_xlabel('Target GAC Aii')\n",
    "ax3.legend(bbox_to_anchor=(1,1))"
   ]
  },
  {
   "cell_type": "code",
   "execution_count": null,
   "metadata": {},
   "outputs": [],
   "source": [
    "df = SimpRPC1RibbonInputDF\n",
    "df[\"TotalInput\"] = df.groupby('TargetParent')[\"RibbonInputCount\"].transform('sum')\n",
    "df[\"PercentofInput\"] = df[\"RibbonInputCount\"] / df[\"TotalInput\"]*100\n",
    "df[\"Volume\"]= 'RPC1'\n",
    "\n",
    "df"
   ]
  },
  {
   "cell_type": "code",
   "execution_count": null,
   "metadata": {},
   "outputs": [],
   "source": [
    "df = SimpRC1RibbonInputDF\n",
    "df[\"TotalInput\"] = df.groupby('TargetParent')[\"RibbonInputCount\"].transform('sum')\n",
    "df[\"PercentofInput\"] = df[\"RibbonInputCount\"] / df[\"TotalInput\"]*100\n",
    "df[\"Volume\"]= 'RC1'\n",
    "\n",
    "df"
   ]
  },
  {
   "cell_type": "code",
   "execution_count": null,
   "metadata": {},
   "outputs": [],
   "source": [
    "frames = [SimpRPC1RibbonInputDF, SimpRC1RibbonInputDF]\n",
    "CombinedRI = pd.concat(frames).reset_index()\n",
    "\n",
    "CombinedRI"
   ]
  },
  {
   "cell_type": "code",
   "execution_count": null,
   "metadata": {},
   "outputs": [],
   "source": [
    "sns.relplot(x=\"RibbonInputCount\", y=\"PercentofInput\", hue=\"Volume\", style=\"SourceParentLabel\", data=CombinedRI);"
   ]
  },
  {
   "cell_type": "code",
   "execution_count": null,
   "metadata": {},
   "outputs": [],
   "source": [
    "\n",
    "RPC1 = CombinedRI.loc[CombinedRI.Volume=='RPC1']\n",
    "RC1 = CombinedRI.loc[CombinedRI.Volume=='RC1']\n",
    "RodBC = CombinedRI.loc[CombinedRI.SourceParentLabel=='RodBC']\n",
    "CBa = CombinedRI.loc[CombinedRI.SourceParentLabel=='CBa']\n",
    "CBb = CombinedRI.loc[CombinedRI.SourceParentLabel=='CBb']\n",
    "\n",
    "sns.displot(CombinedRI, x=RodBC.RibbonInputCount, y=RodBC.PercentofInput, hue=\"Volume\", kind = \"kde\", fill = True).set(title = \"RodBC Distributions\")\n",
    "sns.displot(CombinedRI, x=CBa.RibbonInputCount, y=CBa.PercentofInput, hue=\"Volume\", kind = \"kde\", fill = True).set(title = \"CBa Distributions\")\n",
    "sns.displot(CombinedRI, x=CBb.RibbonInputCount, y=CBb.PercentofInput, hue=\"Volume\", kind = \"kde\", fill = True).set(title = \"CBb Distributions\")\n"
   ]
  },
  {
   "cell_type": "code",
   "execution_count": null,
   "metadata": {},
   "outputs": [],
   "source": [
    "AiiGJs =pd.read_excel('D:\\Documents\\Data\\RPC1\\Aii_GAC_Project\\dfExports\\AiiGJstats.xlsx')"
   ]
  },
  {
   "cell_type": "code",
   "execution_count": null,
   "metadata": {},
   "outputs": [],
   "source": [
    "CombinedRI.drop(columns=[\"index\"], inplace=True)"
   ]
  },
  {
   "cell_type": "code",
   "execution_count": null,
   "metadata": {},
   "outputs": [],
   "source": [
    "CombinedRI.shape"
   ]
  },
  {
   "cell_type": "code",
   "execution_count": null,
   "metadata": {},
   "outputs": [],
   "source": [
    "CombinedRI.rename(columns={'RibbonInputCount':'RICount'}, inplace= True)"
   ]
  },
  {
   "cell_type": "code",
   "execution_count": null,
   "metadata": {},
   "outputs": [],
   "source": [
    "Aii_Aii = AiiMerged.loc[AiiMerged.GJMotif=='GAC Aii::GAC Aii']\n",
    "RodBCInput = AiiMerged.loc[AiiMerged.SourceParentLabel=='RodBC']\n",
    "\n",
    "Aii_Aii.reset_index(drop=True, inplace=True)\n",
    "RodBCInput.reset_index(drop=True, inplace=True)\n",
    "Aii_Aii.update(RodBCInput)\n",
    "Aii_Aii\n",
    "#RodBCInput"
   ]
  },
  {
   "cell_type": "code",
   "execution_count": null,
   "metadata": {},
   "outputs": [],
   "source": [
    "CombinedRI\n",
    "\n"
   ]
  },
  {
   "cell_type": "code",
   "execution_count": null,
   "metadata": {},
   "outputs": [],
   "source": [
    "#RPC1 = AiiMerged.loc[AiiMerged.Volume=='RPC1']\n",
    "#RC1 = AiiMerged.loc[AiiMerged.Volume=='RC1']\n",
    "Aii_Aii = AiiMerged.loc[AiiMerged.GJMotif=='GAC Aii::GAC Aii']\n",
    "RodBCInput = AiiMerged.loc[AiiMerged.SourceParentLabel=='RodBC']\n",
    "Aii_RodBC=AiiMerged.loc[AiiMerged.GJMotif=='GAC Aii::RodBC']\n",
    "\n",
    "\n",
    "Aii_RodBC.reset_index(drop=True, inplace=True)\n",
    "Aii_Aii.reset_index(drop=True, inplace=True)\n",
    "RodBCInput.reset_index(drop=True, inplace=True)\n",
    "\n",
    "CombinedDF = RodBCInput\n",
    "CombinedDF.update(Aii_RodBC)\n",
    "CombinedDF.dropna(inplace=True)\n",
    "\n",
    "sns.scatterplot(\"PercentofRI\", \"PercentofGJInput\", data = CombinedDF, hue=\"TargetAii\", palette=\"Set2\")\n",
    "\n",
    "\n"
   ]
  }
 ],
 "metadata": {
  "interpreter": {
   "hash": "04635d289a519a1410467dd0afb0db42f9184808881ca68b2eb5a687a20a5a94"
  },
  "kernelspec": {
   "display_name": "Python 3.7.6 64-bit",
   "language": "python",
   "name": "python3"
  },
  "language_info": {
   "codemirror_mode": {
    "name": "ipython",
    "version": 3
   },
   "file_extension": ".py",
   "mimetype": "text/x-python",
   "name": "python",
   "nbconvert_exporter": "python",
   "pygments_lexer": "ipython3",
   "version": "3.7.6"
  },
  "orig_nbformat": 4
 },
 "nbformat": 4,
 "nbformat_minor": 2
}
