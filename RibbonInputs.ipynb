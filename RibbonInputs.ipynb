{
 "cells": [
  {
   "cell_type": "code",
   "execution_count": null,
   "metadata": {},
   "outputs": [],
   "source": [
    "import pandas as pd\n",
    "import pyodbc \n",
    "import seaborn as sns\n",
    "import matplotlib.pyplot as plt\n",
    "%matplotlib inline\n",
    "import sqlalchemy as sal\n",
    "from sqlalchemy import create_engine"
   ]
  },
  {
   "cell_type": "code",
   "execution_count": null,
   "metadata": {},
   "outputs": [],
   "source": [
    "#Connect to Data Structure for sqlalchemy is: \"mssql+pyodbc://OpR-Marc-DB2:1433/RPC1?driver=ODBC+Driver+17+for+SQL+Server\" --change RPC1 for other volumes\n",
    "\n",
    "RPC1 = sal.create_engine(\"mssql+pyodbc://OpR-Marc-DB2:1433/RPC1?driver=ODBC+Driver+17+for+SQL+Server\")\n",
    "connection = RPC1.connect()\n",
    "\n",
    "RC1 = sal.create_engine(\"mssql+pyodbc://OpR-Marc-DB2:1433/RC1?driver=ODBC+Driver+17+for+SQL+Server\")\n",
    "connection = RC1.connect()\n"
   ]
  },
  {
   "cell_type": "code",
   "execution_count": null,
   "metadata": {},
   "outputs": [],
   "source": [
    "RPC1RibbonInputDF = pd.DataFrame()\n",
    "RC1RibbonInputDF = pd.DataFrame()"
   ]
  },
  {
   "cell_type": "code",
   "execution_count": null,
   "metadata": {},
   "outputs": [],
   "source": [
    "RC1Aiis= [\"514\", \"3679\", \"2610\", \"410\"]\n",
    "RPC1Aiis = [\"192\", \"262\", \"265\", \"1685\", \"2710\"]"
   ]
  },
  {
   "cell_type": "code",
   "execution_count": null,
   "metadata": {},
   "outputs": [],
   "source": [
    "#Pull Data from RPC1\n",
    "for x in RPC1Aiis: \n",
    "    query = \"SET NOCOUNT ON; EXEC RLPfeiffer.RibbonInputs @TargetCell= \" + \"'\" + x + \"'\"\n",
    "    RI = pd.read_sql(query, con = RPC1)\n",
    "    RPC1RibbonInputDF = RPC1RibbonInputDF.append(RI)\n",
    "\n",
    "RPC1RibbonInputDF"
   ]
  },
  {
   "cell_type": "code",
   "execution_count": null,
   "metadata": {},
   "outputs": [],
   "source": [
    "RPC1RibbonInputDF.SourceParentLabel.value_counts()"
   ]
  },
  {
   "cell_type": "code",
   "execution_count": null,
   "metadata": {},
   "outputs": [],
   "source": [
    "RPC1RibbonInputDF = RPC1RibbonInputDF.reset_index(drop = True)"
   ]
  },
  {
   "cell_type": "code",
   "execution_count": null,
   "metadata": {},
   "outputs": [],
   "source": [
    "#Pull data from RC1\n",
    "for x in RC1Aiis: \n",
    "    query = \"SET NOCOUNT ON; EXEC RLPfeiffer.RibbonInputs @TargetCell= \" + \"'\" + x + \"'\"\n",
    "    RI = pd.read_sql(query, con = RC1)\n",
    "    RC1RibbonInputDF = RC1RibbonInputDF.append(RI)\n",
    "\n",
    "RC1RibbonInputDF"
   ]
  },
  {
   "cell_type": "code",
   "execution_count": null,
   "metadata": {},
   "outputs": [],
   "source": [
    "#Find all Labels\n",
    "RC1RibbonInputDF.SourceParentLabel.value_counts()"
   ]
  },
  {
   "cell_type": "code",
   "execution_count": null,
   "metadata": {},
   "outputs": [],
   "source": [
    "#Fix any odd names in RC1 DF or simplify\n",
    "RC1RibbonInputDF.replace('CBbwf', \"CBb\", inplace=True)"
   ]
  },
  {
   "cell_type": "code",
   "execution_count": null,
   "metadata": {},
   "outputs": [],
   "source": [
    "#Make comparison bargraphs\n",
    "f, ax = plt.subplots()\n",
    "sns.countplot(data = RPC1RibbonInputDF, x ='SourceParentLabel', order=RPC1RibbonInputDF.SourceParentLabel.value_counts().index, hue=\"TargetParent\")\n",
    "\n",
    "handles, labels = ax.get_legend_handles_labels()\n",
    "ax.set_title('RPC1 Aii Ribbon Inputs')\n",
    "ax.legend( title=\"Aii Target\",\n",
    "          handletextpad=0, columnspacing=1,\n",
    "          loc=\"upper right\",  frameon=True)\n",
    "\n",
    "g, ax2 = plt.subplots()\n",
    "sns.countplot(data = RC1RibbonInputDF, x ='SourceParentLabel', order=RC1RibbonInputDF.SourceParentLabel.value_counts().index, hue=\"TargetParent\")\n",
    "\n",
    "handles, labels = ax.get_legend_handles_labels()\n",
    "ax2.set_title('RC1 Aii Ribbon Inputs')\n",
    "ax2.legend( title=\"Aii Target\",\n",
    "          handletextpad=0, columnspacing=1,\n",
    "          loc=\"upper right\",  frameon=True)"
   ]
  },
  {
   "cell_type": "code",
   "execution_count": null,
   "metadata": {},
   "outputs": [],
   "source": [
    "#create simplified count-based DFs\n",
    "SimpRPC1RibbonInputDF = RPC1RibbonInputDF.groupby(\"TargetParent\")[\"SourceParentLabel\"].value_counts().to_frame(name = 'counts').reset_index()\n",
    "SimpRC1RibbonInputDF = RC1RibbonInputDF.groupby(\"TargetParent\")[\"SourceParentLabel\"].value_counts().to_frame(name = 'counts').reset_index()\n"
   ]
  },
  {
   "cell_type": "code",
   "execution_count": null,
   "metadata": {},
   "outputs": [],
   "source": [
    "SimpRPC1RibbonInputDF"
   ]
  },
  {
   "cell_type": "code",
   "execution_count": null,
   "metadata": {},
   "outputs": [],
   "source": [
    "df = SimpRPC1RibbonInputDF\n",
    "df[\"TotalInput\"] = df.groupby('TargetParent')[\"counts\"].transform('sum')\n",
    "df[\"PercentofInput\"] = df[\"counts\"] / df[\"TotalInput\"]*100\n",
    "df[\"Volume\"]= 'RPC1'\n",
    "\n",
    "df"
   ]
  },
  {
   "cell_type": "code",
   "execution_count": null,
   "metadata": {},
   "outputs": [],
   "source": [
    "df = SimpRC1RibbonInputDF\n",
    "df[\"TotalInput\"] = df.groupby('TargetParent')[\"counts\"].transform('sum')\n",
    "df[\"PercentofInput\"] = df[\"counts\"] / df[\"TotalInput\"]*100\n",
    "df[\"Volume\"]= 'RC1'\n",
    "\n",
    "df"
   ]
  },
  {
   "cell_type": "code",
   "execution_count": null,
   "metadata": {},
   "outputs": [],
   "source": [
    "frames = [SimpRC1RibbonInputDF, SimpRPC1RibbonInputDF]\n",
    "CombinedRI = pd.concat(frames).reset_index()\n",
    "\n",
    "CombinedRI"
   ]
  },
  {
   "cell_type": "code",
   "execution_count": null,
   "metadata": {},
   "outputs": [],
   "source": [
    "CombinedRI = CombinedRI.rename({'counts':'TotalRibbonCount'}, axis = 'columns')"
   ]
  },
  {
   "cell_type": "code",
   "execution_count": null,
   "metadata": {},
   "outputs": [],
   "source": [
    "CombinedRI"
   ]
  },
  {
   "cell_type": "code",
   "execution_count": null,
   "metadata": {},
   "outputs": [],
   "source": [
    "sns.relplot(x=\"TotalRibbonCount\", y=\"PercentofInput\", hue=\"Volume\", style=\"SourceParentLabel\", data=CombinedRI);"
   ]
  },
  {
   "cell_type": "code",
   "execution_count": null,
   "metadata": {},
   "outputs": [],
   "source": [
    "\n",
    "RPC1 = CombinedRI.loc[CombinedRI.Volume=='RPC1']\n",
    "RC1 = CombinedRI.loc[CombinedRI.Volume=='RC1']\n",
    "RodBC = CombinedRI.loc[CombinedRI.SourceParentLabel=='RodBC']\n",
    "CBa = CombinedRI.loc[CombinedRI.SourceParentLabel=='CBa']\n",
    "CBb = CombinedRI.loc[CombinedRI.SourceParentLabel=='CBb']\n",
    "\n",
    "sns.displot(CombinedRI, x=RodBC.TotalRibbonCount, y=RodBC.PercentofInput, hue=\"Volume\", kind = \"kde\", fill = True).set(title = \"RodBC Distributions\")\n",
    "sns.displot(CombinedRI, x=CBa.TotalRibbonCount, y=CBa.PercentofInput, hue=\"Volume\", kind = \"kde\", fill = True).set(title = \"CBa Distributions\")\n",
    "sns.displot(CombinedRI, x=CBb.TotalRibbonCount, y=CBb.PercentofInput, hue=\"Volume\", kind = \"kde\", fill = True).set(title = \"CBb Distributions\")\n",
    "\n"
   ]
  }
 ],
 "metadata": {
  "interpreter": {
   "hash": "04635d289a519a1410467dd0afb0db42f9184808881ca68b2eb5a687a20a5a94"
  },
  "kernelspec": {
   "display_name": "Python 3.7.6 64-bit",
   "language": "python",
   "name": "python3"
  },
  "language_info": {
   "codemirror_mode": {
    "name": "ipython",
    "version": 3
   },
   "file_extension": ".py",
   "mimetype": "text/x-python",
   "name": "python",
   "nbconvert_exporter": "python",
   "pygments_lexer": "ipython3",
   "version": "3.7.6"
  },
  "orig_nbformat": 4
 },
 "nbformat": 4,
 "nbformat_minor": 2
}
