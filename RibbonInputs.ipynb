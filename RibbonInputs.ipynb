{
 "cells": [
  {
   "cell_type": "code",
   "execution_count": null,
   "metadata": {
    "pycharm": {
     "name": "#%%\n"
    }
   },
   "outputs": [],
   "source": [
    "import pandas as pd\n",
    "import pyodbc \n",
    "import seaborn as sns\n",
    "import matplotlib.pyplot as plt\n",
    "import sqlalchemy as sal\n",
    "from sqlalchemy import create_engine"
   ]
  },
  {
   "cell_type": "code",
   "execution_count": null,
   "metadata": {
    "pycharm": {
     "name": "#%%\n"
    }
   },
   "outputs": [],
   "source": [
    "#Connect to Data Structure for sqlalchemy is: \"mssql+pyodbc://OpR-Marc-DB2:1433/RPC1?driver=ODBC+Driver+17+for+SQL+Server\" --change RPC1 for other volumes\n",
    "\n",
    "RPC1 = sal.create_engine(\"mssql+pyodbc://OpR-Marc-DB2:1433/RPC1?driver=ODBC+Driver+17+for+SQL+Server\")\n",
    "connection = RPC1.connect()\n",
    "\n",
    "RC1 = sal.create_engine(\"mssql+pyodbc://OpR-Marc-DB2:1433/RC1?driver=ODBC+Driver+17+for+SQL+Server\")\n",
    "connection = RC1.connect()\n"
   ]
  },
  {
   "cell_type": "code",
   "execution_count": null,
   "metadata": {
    "pycharm": {
     "name": "#%%\n"
    }
   },
   "outputs": [],
   "source": [
    "RPC1RibbonInputDF = pd.DataFrame()\n",
    "RC1RibbonInputDF = pd.DataFrame()"
   ]
  },
  {
   "cell_type": "code",
   "execution_count": null,
   "metadata": {
    "pycharm": {
     "name": "#%%\n"
    }
   },
   "outputs": [],
   "source": [
    "RC1Aiis= [\"514\", \"3679\", \"2610\", \"410\"]\n",
    "RPC1Aiis = [\"192\", \"262\", \"265\", \"1685\", \"2710\"]"
   ]
  },
  {
   "cell_type": "code",
   "execution_count": null,
   "metadata": {
    "pycharm": {
     "name": "#%%\n"
    }
   },
   "outputs": [],
   "source": [
    "#Pull Data from RPC1\n",
    "for x in RPC1Aiis: \n",
    "    query = \"SET NOCOUNT ON; EXEC RLPfeiffer.RibbonInputs @TargetCell= \" + \"'\" + x + \"'\"\n",
    "    RI = pd.read_sql(query, con = RPC1)\n",
    "    RI['Volume']= 'RPC1'\n",
    "    RPC1RibbonInputDF = RPC1RibbonInputDF.append(RI)\n",
    "\n",
    "RPC1RibbonInputDF"
   ]
  },
  {
   "cell_type": "code",
   "execution_count": null,
   "metadata": {
    "pycharm": {
     "name": "#%%\n"
    }
   },
   "outputs": [],
   "source": [
    "#Fix any odd names in RC1 DF or simplify *This is currently a manual step)\n",
    "RPC1RibbonInputDF.replace('CBa?', \"CBa\", inplace=True)\n",
    "RPC1RibbonInputDF.replace('CBbwf', \"CBb\", inplace=True)"
   ]
  },
  {
   "cell_type": "code",
   "execution_count": null,
   "metadata": {
    "pycharm": {
     "name": "#%%\n"
    }
   },
   "outputs": [],
   "source": [
    "RPC1RibbonInputDF.SourceParentLabel.value_counts()"
   ]
  },
  {
   "cell_type": "code",
   "execution_count": null,
   "metadata": {},
   "outputs": [],
   "source": [
    "RPC1RibbonInputDF.TargetParent.value_counts()"
   ]
  },
  {
   "cell_type": "code",
   "execution_count": null,
   "metadata": {},
   "outputs": [],
   "source": [
    "RPC1RibbonInputDF.groupby([\"TargetParent\"])[\"SourceParentLabel\"].value_counts()"
   ]
  },
  {
   "cell_type": "code",
   "execution_count": null,
   "metadata": {
    "pycharm": {
     "name": "#%%\n"
    }
   },
   "outputs": [],
   "source": [
    "RPC1RibbonInputDF = RPC1RibbonInputDF.reset_index(drop = True)"
   ]
  },
  {
   "cell_type": "code",
   "execution_count": null,
   "metadata": {
    "pycharm": {
     "name": "#%%\n"
    }
   },
   "outputs": [],
   "source": [
    "RPC1RibbonInputDF[[\"SourceParentLabel\", \"PSDArea\"]].groupby(\"SourceParentLabel\").describe()"
   ]
  },
  {
   "cell_type": "code",
   "execution_count": null,
   "metadata": {
    "pycharm": {
     "name": "#%%\n"
    }
   },
   "outputs": [],
   "source": [
    "#Pull data from RC1\n",
    "for x in RC1Aiis: \n",
    "    query = \"SET NOCOUNT ON; EXEC RLPfeiffer.RibbonInputs @TargetCell= \" + \"'\" + x + \"'\"\n",
    "    RI = pd.read_sql(query, con = RC1)\n",
    "    RI['Volume']= 'RC1'\n",
    "    RC1RibbonInputDF = RC1RibbonInputDF.append(RI)\n",
    "\n",
    "RC1RibbonInputDF"
   ]
  },
  {
   "cell_type": "code",
   "execution_count": null,
   "metadata": {
    "pycharm": {
     "name": "#%%\n"
    }
   },
   "outputs": [],
   "source": [
    "#Fix all expanded names in RC! (subclasses of BCs beyond a and b are excluded in this analysis)\n",
    "RC1RibbonInputDF.replace('CBa?', \"CBa\", inplace=True)\n",
    "RC1RibbonInputDF.replace('CBa1', \"CBa\", inplace=True)\n",
    "RC1RibbonInputDF.replace('CBa2', \"CBa\", inplace=True)\n",
    "RC1RibbonInputDF.replace('CBa1-2', \"CBa\", inplace=True)\n",
    "RC1RibbonInputDF.replace('CBa2-3', \"CBa\", inplace=True)\n",
    "RC1RibbonInputDF.replace('CBa2-4', \"CBa\", inplace=True)\n",
    "RC1RibbonInputDF.replace('CBb6', \"CBb\", inplace=True)\n",
    "RC1RibbonInputDF.replace('CBb5', \"CBb\", inplace=True)\n",
    "RC1RibbonInputDF.replace('CBbwf', \"CBb\", inplace=True)"
   ]
  },
  {
   "cell_type": "code",
   "execution_count": null,
   "metadata": {
    "pycharm": {
     "name": "#%%\n"
    }
   },
   "outputs": [],
   "source": [
    "RC1RibbonInputDF = RC1RibbonInputDF.reset_index(drop = True)"
   ]
  },
  {
   "cell_type": "code",
   "execution_count": null,
   "metadata": {
    "pycharm": {
     "name": "#%%\n"
    }
   },
   "outputs": [],
   "source": [
    "RC1RibbonInputDF.SourceParentLabel.value_counts()"
   ]
  },
  {
   "cell_type": "code",
   "execution_count": null,
   "metadata": {},
   "outputs": [],
   "source": [
    "RC1RibbonInputDF.TargetParent.value_counts()"
   ]
  },
  {
   "cell_type": "code",
   "execution_count": null,
   "metadata": {},
   "outputs": [],
   "source": [
    "RC1RibbonInputDF.groupby([\"TargetParent\"])[\"SourceParentLabel\"].value_counts()"
   ]
  },
  {
   "cell_type": "code",
   "execution_count": null,
   "metadata": {
    "pycharm": {
     "name": "#%%\n"
    }
   },
   "outputs": [],
   "source": [
    "df = RPC1RibbonInputDF\n",
    "df.loc[df[\"PSDArea\"].idxmax()]"
   ]
  },
  {
   "cell_type": "code",
   "execution_count": null,
   "metadata": {},
   "outputs": [],
   "source": [
    "#concatinate the 2 datasets\n",
    "frames = [RPC1RibbonInputDF, RC1RibbonInputDF]\n",
    "CombinedRibbonInputDF = pd.concat(frames).reset_index()"
   ]
  },
  {
   "cell_type": "code",
   "execution_count": null,
   "metadata": {
    "collapsed": false,
    "pycharm": {
     "name": "#%%\n"
    }
   },
   "outputs": [],
   "source": [
    "#Use this if/when you want to export something to an excel file (use this for tableau analysis)\n",
    "CombinedRibbonInputDF.to_excel(r'D:\\Documents\\Data\\RPC1\\Aii_GAC_Project\\dfExports\\CombinedRibbonInput.xlsx')"
   ]
  },
  {
   "cell_type": "code",
   "execution_count": null,
   "metadata": {
    "pycharm": {
     "name": "#%%\n"
    }
   },
   "outputs": [],
   "source": [
    "\n",
    "CombinedRibbonInputDF.groupby(\"TargetParent\")['SourceParent'].value_counts()"
   ]
  },
  {
   "cell_type": "code",
   "execution_count": null,
   "metadata": {},
   "outputs": [],
   "source": [
    "CombinedRibbonInputDF"
   ]
  },
  {
   "cell_type": "code",
   "execution_count": null,
   "metadata": {},
   "outputs": [],
   "source": [
    "\n",
    "# Count the number of unique Source Parents for each Label using value_counts\n",
    "unique_source_parents = CombinedRibbonInputDF.groupby(['Volume', 'TargetParent', 'SourceParentLabel'])['SourceParent'].nunique().to_frame(name = 'InputCells').reset_index()\n",
    "\n",
    "# Print the result\n",
    "print( unique_source_parents)\n"
   ]
  },
  {
   "cell_type": "code",
   "execution_count": null,
   "metadata": {},
   "outputs": [],
   "source": [
    "SimpRibbonInputDF = CombinedRibbonInputDF.groupby(['Volume', 'TargetParent'])[\"SourceParentLabel\"].value_counts().to_frame(name = 'RibbonCount').reset_index()"
   ]
  },
  {
   "cell_type": "code",
   "execution_count": null,
   "metadata": {},
   "outputs": [],
   "source": [
    "df = SimpRibbonInputDF\n",
    "df[\"TotalRibbons\"] = df.groupby('TargetParent')['RibbonCount'].transform('sum')\n",
    "df[\"PercentofInput\"] = df[\"RibbonCount\"] / df[\"TotalRibbons\"]*100\n",
    "\n",
    "print(SimpRibbonInputDF)"
   ]
  },
  {
   "cell_type": "code",
   "execution_count": null,
   "metadata": {},
   "outputs": [],
   "source": [
    "mean_std_df = SimpRibbonInputDF.groupby(['Volume', 'SourceParentLabel'])['PercentofInput'].agg(['mean', 'std'])\n",
    "print(mean_std_df)"
   ]
  },
  {
   "cell_type": "code",
   "execution_count": null,
   "metadata": {
    "pycharm": {
     "name": "#%%\n"
    }
   },
   "outputs": [],
   "source": [
    "CombinedRibbonInputDF.query(\"TargetParent==265\")[\"SourceParent\"].value_counts()"
   ]
  }
 ],
 "metadata": {
  "kernelspec": {
   "display_name": "Python 3.10.4 64-bit",
   "language": "python",
   "name": "python3"
  },
  "language_info": {
   "codemirror_mode": {
    "name": "ipython",
    "version": 3
   },
   "file_extension": ".py",
   "mimetype": "text/x-python",
   "name": "python",
   "nbconvert_exporter": "python",
   "pygments_lexer": "ipython3",
   "version": "3.10.4"
  },
  "orig_nbformat": 4,
  "vscode": {
   "interpreter": {
    "hash": "369f2c481f4da34e4445cda3fffd2e751bd1c4d706f27375911949ba6bb62e1c"
   }
  }
 },
 "nbformat": 4,
 "nbformat_minor": 2
}
