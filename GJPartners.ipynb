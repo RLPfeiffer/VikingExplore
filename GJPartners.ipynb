{
 "cells": [
  {
   "cell_type": "code",
   "execution_count": null,
   "metadata": {
    "pycharm": {
     "name": "#%%\n"
    }
   },
   "outputs": [],
   "source": [
    "import pandas as pd\n",
    "import pyodbc \n",
    "import seaborn as sns\n",
    "import matplotlib.pyplot as plt\n",
    "import sqlalchemy as sal\n",
    "from sqlalchemy import create_engine"
   ]
  },
  {
   "cell_type": "code",
   "execution_count": null,
   "metadata": {
    "pycharm": {
     "name": "#%%\n"
    }
   },
   "outputs": [],
   "source": [
    "#Connect to Data Structure for sqlalchemy is: \"mssql+pyodbc://OpR-Marc-DB2:1433/RPC1?driver=ODBC+Driver+17+for+SQL+Server\" --change RPC1 for other volumes\n",
    "\n",
    "RPC1 = sal.create_engine(\"mssql+pyodbc://OpR-Marc-DB2:1433/RPC1?driver=ODBC+Driver+17+for+SQL+Server\")\n",
    "connection = RPC1.connect()\n",
    "\n",
    "RC1 = sal.create_engine(\"mssql+pyodbc://OpR-Marc-DB2:1433/RC1?driver=ODBC+Driver+17+for+SQL+Server\")\n",
    "connection = RC1.connect()\n"
   ]
  },
  {
   "cell_type": "code",
   "execution_count": null,
   "metadata": {
    "pycharm": {
     "name": "#%%\n"
    }
   },
   "outputs": [],
   "source": [
    "RPC1AiiGJPartnersDF = pd.DataFrame()\n",
    "RC1AiiGJPartnersDF = pd.DataFrame()"
   ]
  },
  {
   "cell_type": "code",
   "execution_count": null,
   "metadata": {
    "pycharm": {
     "name": "#%%\n"
    }
   },
   "outputs": [],
   "source": [
    "RC1Aiis= [\"514\", \"3679\", \"2610\", \"410\"]\n",
    "RPC1Aiis = [\"192\", \"262\", \"265\", \"1685\", \"2710\"]"
   ]
  },
  {
   "cell_type": "code",
   "execution_count": null,
   "metadata": {
    "pycharm": {
     "name": "#%%\n"
    }
   },
   "outputs": [],
   "source": [
    "#Pull Data from RPC1\n",
    "\n",
    "for x in RPC1Aiis: \n",
    "    query = \"SET NOCOUNT ON; EXEC RLPfeiffer.GJPartners @TargetCell= \" + \"'\" + x + \"'\"\n",
    "    GJ = pd.read_sql(query, con = RPC1)\n",
    "    GJ['Volume']= 'RPC1'\n",
    "    GJ['AiiQueried']=x\n",
    "    RPC1AiiGJPartnersDF = RPC1AiiGJPartnersDF.append(GJ)\n",
    "\n",
    "\n",
    "RPC1AiiGJPartnersDF"
   ]
  },
  {
   "cell_type": "code",
   "execution_count": null,
   "metadata": {
    "pycharm": {
     "name": "#%%\n"
    }
   },
   "outputs": [],
   "source": [
    "#Pull Data from RC1\n",
    "for x in RC1Aiis: \n",
    "    query = \"SET NOCOUNT ON; EXEC RLPfeiffer.GJPartners @TargetCell= \" + \"'\" + x + \"'\"\n",
    "    GJ = pd.read_sql(query, con = RC1)\n",
    "    GJ['Volume']= 'RC1'\n",
    "    GJ['AiiQueried']=x\n",
    "    RC1AiiGJPartnersDF = RC1AiiGJPartnersDF.append(GJ)\n",
    "\n",
    "\n",
    "RC1AiiGJPartnersDF"
   ]
  },
  {
   "cell_type": "code",
   "execution_count": null,
   "metadata": {
    "pycharm": {
     "name": "#%%\n"
    }
   },
   "outputs": [],
   "source": [
    "#concatinate the 2 datasets\n",
    "frames = [RPC1AiiGJPartnersDF, RC1AiiGJPartnersDF]\n",
    "AiiGJPartnersDF = pd.concat(frames).reset_index()"
   ]
  },
  {
   "cell_type": "code",
   "execution_count": null,
   "metadata": {
    "pycharm": {
     "name": "#%%\n"
    }
   },
   "outputs": [],
   "source": [
    "df = AiiGJPartnersDF\n",
    "df['SourceParentLabel']=df['SourceParentLabel'].str.strip('?()wf3456n-')\n",
    "df['TargetParentLabel']=df['TargetParentLabel'].str.strip('?()wf3456n-')"
   ]
  },
  {
   "cell_type": "code",
   "execution_count": null,
   "metadata": {
    "pycharm": {
     "name": "#%%\n"
    }
   },
   "outputs": [],
   "source": [
    "AiiGJPartnersDF.fillna('Unk', inplace=True)"
   ]
  },
  {
   "cell_type": "code",
   "execution_count": null,
   "metadata": {
    "pycharm": {
     "name": "#%%\n"
    }
   },
   "outputs": [],
   "source": [
    "df = AiiGJPartnersDF\n",
    "df['GJMotif']= df['SourceParentLabel'] + '::' + df['TargetParentLabel']"
   ]
  },
  {
   "cell_type": "code",
   "execution_count": null,
   "metadata": {
    "pycharm": {
     "name": "#%%\n"
    }
   },
   "outputs": [],
   "source": [
    "AiiGJPartnersDF = AiiGJPartnersDF.drop(columns=['Notes'])"
   ]
  },
  {
   "cell_type": "code",
   "execution_count": null,
   "metadata": {
    "collapsed": false,
    "pycharm": {
     "name": "#%%\n"
    }
   },
   "outputs": [],
   "source": [
    "#These are all of the motif variations, not super clean\n",
    "\n",
    "AiiGJPartnersDF.replace('Aii::GAC Aii','GAC Aii::GAC Aii', inplace=True)\n",
    "AiiGJPartnersDF.replace('CBb::GAC Aii','GAC Aii::CBb', inplace=True)\n",
    "AiiGJPartnersDF.replace('RodBC::GAC Aii','GAC Aii::RodBC', inplace=True)\n",
    "AiiGJPartnersDF.replace('BC::GAC Aii','GAC Aii::BC', inplace=True)\n",
    "AiiGJPartnersDF.replace('CB::GAC Aii','GAC Aii::CB', inplace=True)\n",
    "AiiGJPartnersDF.replace('::GAC Aii','GAC Aii::Unk', inplace=True)\n",
    "AiiGJPartnersDF.replace('Unk::GAC Aii','GAC Aii::Unk', inplace=True)\n",
    "AiiGJPartnersDF.replace('GAC Aii::','GAC Aii::Unk', inplace=True)\n",
    "AiiGJPartnersDF.replace('unk::GAC Aii','GAC Aii::Unk', inplace=True)\n",
    "AiiGJPartnersDF.replace('GAC Aii::ull','GAC Aii::Unk', inplace=True)\n",
    "AiiGJPartnersDF.replace('NULL::GAC Aii','GAC Aii::Unk', inplace=True)\n",
    "AiiGJPartnersDF.replace('AC::GAC Aii','GAC Aii::AC', inplace=True)\n",
    "AiiGJPartnersDF.replace('yAC::GAC Aii','GAC Aii::yAC', inplace=True)\n",
    "AiiGJPartnersDF.replace('CBa::GAC Aii','GAC Aii::CBa', inplace=True)"
   ]
  },
  {
   "cell_type": "code",
   "execution_count": null,
   "metadata": {
    "collapsed": false,
    "pycharm": {
     "name": "#%%\n"
    }
   },
   "outputs": [],
   "source": [
    "# Test of query cleaness, don't need to run this everytime\n",
    "df = AiiGJPartnersDF\n",
    "duplicates = df[df.duplicated(subset=['SourceID','AiiQueried'])]\n",
    "\n",
    "duplicates"
   ]
  },
  {
   "cell_type": "code",
   "execution_count": null,
   "metadata": {
    "collapsed": false,
    "pycharm": {
     "name": "#%%\n"
    }
   },
   "outputs": [],
   "source": [
    "df = AiiGJPartnersDF\n",
    "\n",
    "AiiGJNoDuplicates= pd.DataFrame(df.drop_duplicates(subset=['SourceID','AiiQueried']).reset_index())\n",
    "\n",
    "df"
   ]
  },
  {
   "cell_type": "code",
   "execution_count": null,
   "metadata": {
    "collapsed": false,
    "pycharm": {
     "name": "#%%\n"
    }
   },
   "outputs": [],
   "source": [
    "AiiGJNoDuplicates"
   ]
  },
  {
   "cell_type": "code",
   "execution_count": null,
   "metadata": {
    "collapsed": false,
    "pycharm": {
     "name": "#%%\n"
    }
   },
   "outputs": [],
   "source": [
    "AiiGJNoDuplicates.AiiQueried.value_counts()"
   ]
  },
  {
   "cell_type": "code",
   "execution_count": null,
   "metadata": {
    "collapsed": false,
    "pycharm": {
     "name": "#%%\n"
    }
   },
   "outputs": [],
   "source": [
    "PartnersTotal = AiiGJPartnersDF.groupby([\"AiiQueried\", \"GJMotif\"])['SourceParent'].value_counts()\n",
    "print(PartnersTotal)"
   ]
  },
  {
   "cell_type": "code",
   "execution_count": null,
   "metadata": {
    "collapsed": false,
    "pycharm": {
     "name": "#%%\n"
    }
   },
   "outputs": [],
   "source": [
    "AiiGJNoDuplicates.GJMotif.value_counts()"
   ]
  },
  {
   "cell_type": "code",
   "execution_count": null,
   "metadata": {},
   "outputs": [],
   "source": [
    "# Assuming AiiGJPartnersDF is your DataFrame\n",
    "InputLabel = 'RodBC'\n",
    "\n",
    "# Filter the DataFrame based on the conditions using query\n",
    "filtered_df = AiiGJPartnersDF.query(\"AiiQueried == '192' and (SourceParentLabel == @InputLabel or TargetParentLabel == @InputLabel)\")\n",
    "\n",
    "# Count the number of unique Source Parents using value_counts\n",
    "unique_source_parents = filtered_df['SourceParent'].value_counts().shape[0]\n",
    "\n",
    "# Print the result\n",
    "print(\"RodBCs connected:\", unique_source_parents)\n",
    "\n"
   ]
  },
  {
   "cell_type": "code",
   "execution_count": null,
   "metadata": {
    "collapsed": false,
    "pycharm": {
     "name": "#%%\n"
    }
   },
   "outputs": [],
   "source": [
    "AiiGJNoDuplicates.loc[AiiGJNoDuplicates['GJMotif'] == 'GAC Aii::AC']"
   ]
  },
  {
   "cell_type": "code",
   "execution_count": null,
   "metadata": {
    "collapsed": false,
    "pycharm": {
     "name": "#%%\n"
    }
   },
   "outputs": [],
   "source": [
    "SimpAiiGJPartnerDF = AiiGJPartnersDF.groupby([\"AiiQueried\", 'Volume'])[\"GJMotif\"].value_counts().to_frame(name = 'GJCount').reset_index()\n",
    "SimpAiiGJPartnerDF"
   ]
  },
  {
   "cell_type": "code",
   "execution_count": null,
   "metadata": {
    "collapsed": false,
    "pycharm": {
     "name": "#%%\n"
    }
   },
   "outputs": [],
   "source": [
    "df = SimpAiiGJPartnerDF\n",
    "df[\"TotalGJs\"] = df.groupby('AiiQueried')[\"GJCount\"].transform('sum')\n",
    "df[\"PercentofInput\"] = df[\"GJCount\"] / df[\"TotalGJs\"]*100"
   ]
  },
  {
   "cell_type": "code",
   "execution_count": null,
   "metadata": {
    "collapsed": false,
    "pycharm": {
     "name": "#%%\n"
    }
   },
   "outputs": [],
   "source": [
    "SimpAiiGJPartnerDF"
   ]
  },
  {
   "cell_type": "code",
   "execution_count": null,
   "metadata": {},
   "outputs": [],
   "source": [
    "\n",
    "mean_std_df = SimpAiiGJPartnerDF.groupby(['Volume', 'GJMotif'])['PercentofInput'].agg(['mean', 'std'])\n",
    "print(mean_std_df)"
   ]
  },
  {
   "cell_type": "code",
   "execution_count": null,
   "metadata": {},
   "outputs": [],
   "source": [
    "AiiGJNoDuplicates['GJArea'] = AiiGJNoDuplicates['GJArea']*1.0e-6"
   ]
  },
  {
   "cell_type": "code",
   "execution_count": null,
   "metadata": {
    "collapsed": false,
    "pycharm": {
     "name": "#%%\n"
    }
   },
   "outputs": [],
   "source": [
    "#Use this if/when you want to export something to an excel file\n",
    "Aii_GJ = AiiGJNoDuplicates.to_excel('D:\\Documents\\Data\\RPC1\\Aii_GAC_Project\\dfExports\\AiiGJPartners.xlsx')"
   ]
  }
 ],
 "metadata": {
  "kernelspec": {
   "display_name": "Python 3.10.4 64-bit",
   "language": "python",
   "name": "python3"
  },
  "language_info": {
   "codemirror_mode": {
    "name": "ipython",
    "version": 3
   },
   "file_extension": ".py",
   "mimetype": "text/x-python",
   "name": "python",
   "nbconvert_exporter": "python",
   "pygments_lexer": "ipython3",
   "version": "3.10.4"
  },
  "orig_nbformat": 4,
  "vscode": {
   "interpreter": {
    "hash": "369f2c481f4da34e4445cda3fffd2e751bd1c4d706f27375911949ba6bb62e1c"
   }
  }
 },
 "nbformat": 4,
 "nbformat_minor": 2
}
