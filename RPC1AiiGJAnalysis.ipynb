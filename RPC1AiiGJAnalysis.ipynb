{
 "cells": [
  {
   "cell_type": "code",
   "execution_count": 33,
   "metadata": {
    "collapsed": true,
    "pycharm": {
     "name": "#%%\n"
    }
   },
   "outputs": [],
   "source": [
    "import pandas as pd\n",
    "import sqlalchemy as sal"
   ]
  },
  {
   "cell_type": "code",
   "execution_count": 34,
   "outputs": [],
   "source": [
    "#Connect to Data Structure for sqlalchemy is: \"mssql+pyodbc://OpR-Marc-DB2:1433/RPC1?driver=ODBC+Driver+17+for+SQL+Server\" --change RPC1 for other volumes\n",
    "\n",
    "RPC1 = sal.create_engine(\"mssql+pyodbc://OpR-Marc-DB2:1433/RPC1?driver=ODBC+Driver+17+for+SQL+Server\")\n",
    "connection = RPC1.connect()\n",
    "\n",
    "RC1 = sal.create_engine(\"mssql+pyodbc://OpR-Marc-DB2:1433/RC1?driver=ODBC+Driver+17+for+SQL+Server\")\n",
    "connection = RC1.connect()\n"
   ],
   "metadata": {
    "collapsed": false,
    "pycharm": {
     "name": "#%%\n"
    }
   }
  },
  {
   "cell_type": "code",
   "execution_count": 35,
   "outputs": [],
   "source": [
    "RPC1AiiGJPartnersDF = pd.DataFrame()\n",
    "RC1AiiGJPartnersDF = pd.DataFrame()"
   ],
   "metadata": {
    "collapsed": false,
    "pycharm": {
     "name": "#%%\n"
    }
   }
  },
  {
   "cell_type": "code",
   "execution_count": 36,
   "outputs": [],
   "source": [
    "RC1Aiis= [\"514\", \"3679\", \"2610\", \"410\"]\n",
    "RPC1Aiis = [\"192\", \"262\", \"265\", \"1685\", \"2710\"]"
   ],
   "metadata": {
    "collapsed": false,
    "pycharm": {
     "name": "#%%\n"
    }
   }
  },
  {
   "cell_type": "code",
   "execution_count": 37,
   "outputs": [
    {
     "name": "stderr",
     "output_type": "stream",
     "text": [
      "C:\\Users\\u0705824\\AppData\\Local\\Temp\\ipykernel_16552\\2511725498.py:8: FutureWarning: The frame.append method is deprecated and will be removed from pandas in a future version. Use pandas.concat instead.\n",
      "  RPC1AiiGJPartnersDF = RPC1AiiGJPartnersDF.append(GJ)\n",
      "C:\\Users\\u0705824\\AppData\\Local\\Temp\\ipykernel_16552\\2511725498.py:8: FutureWarning: The frame.append method is deprecated and will be removed from pandas in a future version. Use pandas.concat instead.\n",
      "  RPC1AiiGJPartnersDF = RPC1AiiGJPartnersDF.append(GJ)\n",
      "C:\\Users\\u0705824\\AppData\\Local\\Temp\\ipykernel_16552\\2511725498.py:8: FutureWarning: The frame.append method is deprecated and will be removed from pandas in a future version. Use pandas.concat instead.\n",
      "  RPC1AiiGJPartnersDF = RPC1AiiGJPartnersDF.append(GJ)\n",
      "C:\\Users\\u0705824\\AppData\\Local\\Temp\\ipykernel_16552\\2511725498.py:8: FutureWarning: The frame.append method is deprecated and will be removed from pandas in a future version. Use pandas.concat instead.\n",
      "  RPC1AiiGJPartnersDF = RPC1AiiGJPartnersDF.append(GJ)\n",
      "C:\\Users\\u0705824\\AppData\\Local\\Temp\\ipykernel_16552\\2511725498.py:8: FutureWarning: The frame.append method is deprecated and will be removed from pandas in a future version. Use pandas.concat instead.\n",
      "  RPC1AiiGJPartnersDF = RPC1AiiGJPartnersDF.append(GJ)\n"
     ]
    },
    {
     "data": {
      "text/plain": "    SourceParent SourceParentLabel  SourceStructureType  SourceID  TargetID  \\\n0          26029                                     28     26030     24528   \n1          25992                                     28     25994     24632   \n2          25997                                     28     25998     24754   \n3          26641                                     28     26642     25941   \n4          47241                AC                   28     47242     44005   \n..           ...               ...                  ...       ...       ...   \n90         30692             RodBC                   28     47525     46795   \n91         30692             RodBC                   28     37639     38514   \n92          1069             RodBC                   28     30782     30788   \n93          1069             RodBC                   28     38777     38776   \n94          1069             RodBC                   28     38139     38138   \n\n    TargetParent TargetParentLabel  \\\n0            192           GAC Aii   \n1            192           GAC Aii   \n2            192           GAC Aii   \n3            192           GAC Aii   \n4            192           GAC Aii   \n..           ...               ...   \n90          2710           GAC Aii   \n91          2710           GAC Aii   \n92          2710           GAC Aii   \n93          2710           GAC Aii   \n94          2710           GAC Aii   \n\n                                                Notes        GJArea Volume  \\\n0               Jumps around alot at edge of volume.   31417.102575   RPC1   \n1                   Small process right in death zone   9021.002430   RPC1   \n2   Lost across death zone potential extension of ...  34727.580287   RPC1   \n3   Right at edge of volume.  No real way to follo...  32906.238407   RPC1   \n4                                                       8209.136102   RPC1   \n..                                                ...           ...    ...   \n90                                                     28004.604895   RPC1   \n91                                                     24597.399802   RPC1   \n92  \\n\\nMay branch here\\nX: 12947.4     Y: 10473.2...  47397.912935   RPC1   \n93  \\n\\nMay branch here\\nX: 12947.4     Y: 10473.2...  14421.294237   RPC1   \n94  \\n\\nMay branch here\\nX: 12947.4     Y: 10473.2...  19743.059070   RPC1   \n\n   AiiQueried  \n0         192  \n1         192  \n2         192  \n3         192  \n4         192  \n..        ...  \n90       2710  \n91       2710  \n92       2710  \n93       2710  \n94       2710  \n\n[452 rows x 11 columns]",
      "text/html": "<div>\n<style scoped>\n    .dataframe tbody tr th:only-of-type {\n        vertical-align: middle;\n    }\n\n    .dataframe tbody tr th {\n        vertical-align: top;\n    }\n\n    .dataframe thead th {\n        text-align: right;\n    }\n</style>\n<table border=\"1\" class=\"dataframe\">\n  <thead>\n    <tr style=\"text-align: right;\">\n      <th></th>\n      <th>SourceParent</th>\n      <th>SourceParentLabel</th>\n      <th>SourceStructureType</th>\n      <th>SourceID</th>\n      <th>TargetID</th>\n      <th>TargetParent</th>\n      <th>TargetParentLabel</th>\n      <th>Notes</th>\n      <th>GJArea</th>\n      <th>Volume</th>\n      <th>AiiQueried</th>\n    </tr>\n  </thead>\n  <tbody>\n    <tr>\n      <th>0</th>\n      <td>26029</td>\n      <td></td>\n      <td>28</td>\n      <td>26030</td>\n      <td>24528</td>\n      <td>192</td>\n      <td>GAC Aii</td>\n      <td>Jumps around alot at edge of volume.</td>\n      <td>31417.102575</td>\n      <td>RPC1</td>\n      <td>192</td>\n    </tr>\n    <tr>\n      <th>1</th>\n      <td>25992</td>\n      <td></td>\n      <td>28</td>\n      <td>25994</td>\n      <td>24632</td>\n      <td>192</td>\n      <td>GAC Aii</td>\n      <td>Small process right in death zone</td>\n      <td>9021.002430</td>\n      <td>RPC1</td>\n      <td>192</td>\n    </tr>\n    <tr>\n      <th>2</th>\n      <td>25997</td>\n      <td></td>\n      <td>28</td>\n      <td>25998</td>\n      <td>24754</td>\n      <td>192</td>\n      <td>GAC Aii</td>\n      <td>Lost across death zone potential extension of ...</td>\n      <td>34727.580287</td>\n      <td>RPC1</td>\n      <td>192</td>\n    </tr>\n    <tr>\n      <th>3</th>\n      <td>26641</td>\n      <td></td>\n      <td>28</td>\n      <td>26642</td>\n      <td>25941</td>\n      <td>192</td>\n      <td>GAC Aii</td>\n      <td>Right at edge of volume.  No real way to follo...</td>\n      <td>32906.238407</td>\n      <td>RPC1</td>\n      <td>192</td>\n    </tr>\n    <tr>\n      <th>4</th>\n      <td>47241</td>\n      <td>AC</td>\n      <td>28</td>\n      <td>47242</td>\n      <td>44005</td>\n      <td>192</td>\n      <td>GAC Aii</td>\n      <td></td>\n      <td>8209.136102</td>\n      <td>RPC1</td>\n      <td>192</td>\n    </tr>\n    <tr>\n      <th>...</th>\n      <td>...</td>\n      <td>...</td>\n      <td>...</td>\n      <td>...</td>\n      <td>...</td>\n      <td>...</td>\n      <td>...</td>\n      <td>...</td>\n      <td>...</td>\n      <td>...</td>\n      <td>...</td>\n    </tr>\n    <tr>\n      <th>90</th>\n      <td>30692</td>\n      <td>RodBC</td>\n      <td>28</td>\n      <td>47525</td>\n      <td>46795</td>\n      <td>2710</td>\n      <td>GAC Aii</td>\n      <td></td>\n      <td>28004.604895</td>\n      <td>RPC1</td>\n      <td>2710</td>\n    </tr>\n    <tr>\n      <th>91</th>\n      <td>30692</td>\n      <td>RodBC</td>\n      <td>28</td>\n      <td>37639</td>\n      <td>38514</td>\n      <td>2710</td>\n      <td>GAC Aii</td>\n      <td></td>\n      <td>24597.399802</td>\n      <td>RPC1</td>\n      <td>2710</td>\n    </tr>\n    <tr>\n      <th>92</th>\n      <td>1069</td>\n      <td>RodBC</td>\n      <td>28</td>\n      <td>30782</td>\n      <td>30788</td>\n      <td>2710</td>\n      <td>GAC Aii</td>\n      <td>\\n\\nMay branch here\\nX: 12947.4     Y: 10473.2...</td>\n      <td>47397.912935</td>\n      <td>RPC1</td>\n      <td>2710</td>\n    </tr>\n    <tr>\n      <th>93</th>\n      <td>1069</td>\n      <td>RodBC</td>\n      <td>28</td>\n      <td>38777</td>\n      <td>38776</td>\n      <td>2710</td>\n      <td>GAC Aii</td>\n      <td>\\n\\nMay branch here\\nX: 12947.4     Y: 10473.2...</td>\n      <td>14421.294237</td>\n      <td>RPC1</td>\n      <td>2710</td>\n    </tr>\n    <tr>\n      <th>94</th>\n      <td>1069</td>\n      <td>RodBC</td>\n      <td>28</td>\n      <td>38139</td>\n      <td>38138</td>\n      <td>2710</td>\n      <td>GAC Aii</td>\n      <td>\\n\\nMay branch here\\nX: 12947.4     Y: 10473.2...</td>\n      <td>19743.059070</td>\n      <td>RPC1</td>\n      <td>2710</td>\n    </tr>\n  </tbody>\n</table>\n<p>452 rows × 11 columns</p>\n</div>"
     },
     "execution_count": 37,
     "metadata": {},
     "output_type": "execute_result"
    }
   ],
   "source": [
    "#Pull Data from RPC1\n",
    "\n",
    "for x in RPC1Aiis:\n",
    "    query = \"SET NOCOUNT ON; EXEC RLPfeiffer.GJPartners @TargetCell= \" + \"'\" + x + \"'\"\n",
    "    GJ = pd.read_sql(query, con = RPC1)\n",
    "    GJ['Volume']= 'RPC1'\n",
    "    GJ['AiiQueried']=x\n",
    "    RPC1AiiGJPartnersDF = RPC1AiiGJPartnersDF.append(GJ)\n",
    "\n",
    "\n",
    "RPC1AiiGJPartnersDF"
   ],
   "metadata": {
    "collapsed": false,
    "pycharm": {
     "name": "#%%\n"
    }
   }
  },
  {
   "cell_type": "code",
   "execution_count": 38,
   "outputs": [
    {
     "name": "stderr",
     "output_type": "stream",
     "text": [
      "C:\\Users\\u0705824\\AppData\\Local\\Temp\\ipykernel_16552\\3654565447.py:7: FutureWarning: The frame.append method is deprecated and will be removed from pandas in a future version. Use pandas.concat instead.\n",
      "  RC1AiiGJPartnersDF = RC1AiiGJPartnersDF.append(GJ)\n",
      "C:\\Users\\u0705824\\AppData\\Local\\Temp\\ipykernel_16552\\3654565447.py:7: FutureWarning: The frame.append method is deprecated and will be removed from pandas in a future version. Use pandas.concat instead.\n",
      "  RC1AiiGJPartnersDF = RC1AiiGJPartnersDF.append(GJ)\n",
      "C:\\Users\\u0705824\\AppData\\Local\\Temp\\ipykernel_16552\\3654565447.py:7: FutureWarning: The frame.append method is deprecated and will be removed from pandas in a future version. Use pandas.concat instead.\n",
      "  RC1AiiGJPartnersDF = RC1AiiGJPartnersDF.append(GJ)\n",
      "C:\\Users\\u0705824\\AppData\\Local\\Temp\\ipykernel_16552\\3654565447.py:7: FutureWarning: The frame.append method is deprecated and will be removed from pandas in a future version. Use pandas.concat instead.\n",
      "  RC1AiiGJPartnersDF = RC1AiiGJPartnersDF.append(GJ)\n"
     ]
    },
    {
     "data": {
      "text/plain": "     SourceParent SourceParentLabel  SourceStructureType  SourceID  TargetID  \\\n0            1724             CBb3n                   28     48675     48674   \n1            1724             CBb3n                   28     47345      1447   \n2            1724             CBb3n                   28     47377      1442   \n3            1724             CBb3n                   28     47401      3072   \n4            1724             CBb3n                   28     22606      3242   \n..            ...               ...                  ...       ...       ...   \n99            410           GAC Aii                   28      8380      8347   \n100           410           GAC Aii                   28      9189      8410   \n101           410           GAC Aii                   28      9196     30957   \n102           410           GAC Aii                   28     94053     94052   \n103           410           GAC Aii                   28     94746     94747   \n\n     TargetParent TargetParentLabel  \\\n0             514           GAC Aii   \n1             514           GAC Aii   \n2             514           GAC Aii   \n3             514           GAC Aii   \n4             514           GAC Aii   \n..            ...               ...   \n99            476           GAC Aii   \n100          6153           GAC Aii   \n101           372             CBb3n   \n102           485              CBb5   \n103           483              CBb5   \n\n                                          Notes         GJArea Volume  \\\n0    Original Label:  CBb3m\\n\\n\\n[:: CBb3m tip]   14489.152133    RC1   \n1    Original Label:  CBb3m\\n\\n\\n[:: CBb3m tip]   69215.818210    RC1   \n2    Original Label:  CBb3m\\n\\n\\n[:: CBb3m tip]   80613.319939    RC1   \n3    Original Label:  CBb3m\\n\\n\\n[:: CBb3m tip]   36006.468531    RC1   \n4    Original Label:  CBb3m\\n\\n\\n[:: CBb3m tip]  190604.950896    RC1   \n..                                          ...            ...    ...   \n99                                       Aii AC  157651.245488    RC1   \n100                                      Aii AC  930437.508721    RC1   \n101                                      Aii AC   92122.694035    RC1   \n102                                      Aii AC   54598.868007    RC1   \n103                                      Aii AC   14998.438455    RC1   \n\n    AiiQueried  \n0          514  \n1          514  \n2          514  \n3          514  \n4          514  \n..         ...  \n99         410  \n100        410  \n101        410  \n102        410  \n103        410  \n\n[562 rows x 11 columns]",
      "text/html": "<div>\n<style scoped>\n    .dataframe tbody tr th:only-of-type {\n        vertical-align: middle;\n    }\n\n    .dataframe tbody tr th {\n        vertical-align: top;\n    }\n\n    .dataframe thead th {\n        text-align: right;\n    }\n</style>\n<table border=\"1\" class=\"dataframe\">\n  <thead>\n    <tr style=\"text-align: right;\">\n      <th></th>\n      <th>SourceParent</th>\n      <th>SourceParentLabel</th>\n      <th>SourceStructureType</th>\n      <th>SourceID</th>\n      <th>TargetID</th>\n      <th>TargetParent</th>\n      <th>TargetParentLabel</th>\n      <th>Notes</th>\n      <th>GJArea</th>\n      <th>Volume</th>\n      <th>AiiQueried</th>\n    </tr>\n  </thead>\n  <tbody>\n    <tr>\n      <th>0</th>\n      <td>1724</td>\n      <td>CBb3n</td>\n      <td>28</td>\n      <td>48675</td>\n      <td>48674</td>\n      <td>514</td>\n      <td>GAC Aii</td>\n      <td>Original Label:  CBb3m\\n\\n\\n[:: CBb3m tip]</td>\n      <td>14489.152133</td>\n      <td>RC1</td>\n      <td>514</td>\n    </tr>\n    <tr>\n      <th>1</th>\n      <td>1724</td>\n      <td>CBb3n</td>\n      <td>28</td>\n      <td>47345</td>\n      <td>1447</td>\n      <td>514</td>\n      <td>GAC Aii</td>\n      <td>Original Label:  CBb3m\\n\\n\\n[:: CBb3m tip]</td>\n      <td>69215.818210</td>\n      <td>RC1</td>\n      <td>514</td>\n    </tr>\n    <tr>\n      <th>2</th>\n      <td>1724</td>\n      <td>CBb3n</td>\n      <td>28</td>\n      <td>47377</td>\n      <td>1442</td>\n      <td>514</td>\n      <td>GAC Aii</td>\n      <td>Original Label:  CBb3m\\n\\n\\n[:: CBb3m tip]</td>\n      <td>80613.319939</td>\n      <td>RC1</td>\n      <td>514</td>\n    </tr>\n    <tr>\n      <th>3</th>\n      <td>1724</td>\n      <td>CBb3n</td>\n      <td>28</td>\n      <td>47401</td>\n      <td>3072</td>\n      <td>514</td>\n      <td>GAC Aii</td>\n      <td>Original Label:  CBb3m\\n\\n\\n[:: CBb3m tip]</td>\n      <td>36006.468531</td>\n      <td>RC1</td>\n      <td>514</td>\n    </tr>\n    <tr>\n      <th>4</th>\n      <td>1724</td>\n      <td>CBb3n</td>\n      <td>28</td>\n      <td>22606</td>\n      <td>3242</td>\n      <td>514</td>\n      <td>GAC Aii</td>\n      <td>Original Label:  CBb3m\\n\\n\\n[:: CBb3m tip]</td>\n      <td>190604.950896</td>\n      <td>RC1</td>\n      <td>514</td>\n    </tr>\n    <tr>\n      <th>...</th>\n      <td>...</td>\n      <td>...</td>\n      <td>...</td>\n      <td>...</td>\n      <td>...</td>\n      <td>...</td>\n      <td>...</td>\n      <td>...</td>\n      <td>...</td>\n      <td>...</td>\n      <td>...</td>\n    </tr>\n    <tr>\n      <th>99</th>\n      <td>410</td>\n      <td>GAC Aii</td>\n      <td>28</td>\n      <td>8380</td>\n      <td>8347</td>\n      <td>476</td>\n      <td>GAC Aii</td>\n      <td>Aii AC</td>\n      <td>157651.245488</td>\n      <td>RC1</td>\n      <td>410</td>\n    </tr>\n    <tr>\n      <th>100</th>\n      <td>410</td>\n      <td>GAC Aii</td>\n      <td>28</td>\n      <td>9189</td>\n      <td>8410</td>\n      <td>6153</td>\n      <td>GAC Aii</td>\n      <td>Aii AC</td>\n      <td>930437.508721</td>\n      <td>RC1</td>\n      <td>410</td>\n    </tr>\n    <tr>\n      <th>101</th>\n      <td>410</td>\n      <td>GAC Aii</td>\n      <td>28</td>\n      <td>9196</td>\n      <td>30957</td>\n      <td>372</td>\n      <td>CBb3n</td>\n      <td>Aii AC</td>\n      <td>92122.694035</td>\n      <td>RC1</td>\n      <td>410</td>\n    </tr>\n    <tr>\n      <th>102</th>\n      <td>410</td>\n      <td>GAC Aii</td>\n      <td>28</td>\n      <td>94053</td>\n      <td>94052</td>\n      <td>485</td>\n      <td>CBb5</td>\n      <td>Aii AC</td>\n      <td>54598.868007</td>\n      <td>RC1</td>\n      <td>410</td>\n    </tr>\n    <tr>\n      <th>103</th>\n      <td>410</td>\n      <td>GAC Aii</td>\n      <td>28</td>\n      <td>94746</td>\n      <td>94747</td>\n      <td>483</td>\n      <td>CBb5</td>\n      <td>Aii AC</td>\n      <td>14998.438455</td>\n      <td>RC1</td>\n      <td>410</td>\n    </tr>\n  </tbody>\n</table>\n<p>562 rows × 11 columns</p>\n</div>"
     },
     "execution_count": 38,
     "metadata": {},
     "output_type": "execute_result"
    }
   ],
   "source": [
    "#Pull Data from RC1\n",
    "for x in RC1Aiis:\n",
    "    query = \"SET NOCOUNT ON; EXEC RLPfeiffer.GJPartners @TargetCell= \" + \"'\" + x + \"'\"\n",
    "    GJ = pd.read_sql(query, con = RC1)\n",
    "    GJ['Volume']= 'RC1'\n",
    "    GJ['AiiQueried']=x\n",
    "    RC1AiiGJPartnersDF = RC1AiiGJPartnersDF.append(GJ)\n",
    "\n",
    "\n",
    "RC1AiiGJPartnersDF"
   ],
   "metadata": {
    "collapsed": false,
    "pycharm": {
     "name": "#%%\n"
    }
   }
  },
  {
   "cell_type": "code",
   "execution_count": 39,
   "outputs": [],
   "source": [
    "#concatinate the 2 datasets\n",
    "frames = [RPC1AiiGJPartnersDF, RC1AiiGJPartnersDF]\n",
    "AiiGJPartnersDF = pd.concat(frames).reset_index()"
   ],
   "metadata": {
    "collapsed": false,
    "pycharm": {
     "name": "#%%\n"
    }
   }
  },
  {
   "cell_type": "code",
   "execution_count": 40,
   "outputs": [],
   "source": [
    "df = AiiGJPartnersDF\n",
    "df['SourceParentLabel']=df['SourceParentLabel'].str.strip('?()wf3456n-')\n",
    "df['TargetParentLabel']=df['TargetParentLabel'].str.strip('?()wf3456n-')"
   ],
   "metadata": {
    "collapsed": false,
    "pycharm": {
     "name": "#%%\n"
    }
   }
  },
  {
   "cell_type": "code",
   "execution_count": 41,
   "outputs": [],
   "source": [
    "AiiGJPartnersDF.fillna('Unk', inplace=True)"
   ],
   "metadata": {
    "collapsed": false,
    "pycharm": {
     "name": "#%%\n"
    }
   }
  },
  {
   "cell_type": "code",
   "execution_count": 42,
   "outputs": [],
   "source": [
    "df = AiiGJPartnersDF\n",
    "df['GJMotif']= df['SourceParentLabel'] + '::' + df['TargetParentLabel']"
   ],
   "metadata": {
    "collapsed": false,
    "pycharm": {
     "name": "#%%\n"
    }
   }
  },
  {
   "cell_type": "code",
   "execution_count": 43,
   "outputs": [],
   "source": [
    "AiiGJPartnersDF = AiiGJPartnersDF.drop(columns=['Notes'])"
   ],
   "metadata": {
    "collapsed": false,
    "pycharm": {
     "name": "#%%\n"
    }
   }
  },
  {
   "cell_type": "code",
   "execution_count": 44,
   "outputs": [],
   "source": [
    "#These are all of the motif variations, not super clean\n",
    "\n",
    "AiiGJPartnersDF.replace('CBb::GAC Aii','GAC Aii::CBb', inplace=True)\n",
    "AiiGJPartnersDF.replace('RodBC::GAC Aii','GAC Aii::RodBC', inplace=True)\n",
    "AiiGJPartnersDF.replace('BC::GAC Aii','GAC Aii::BC', inplace=True)\n",
    "AiiGJPartnersDF.replace('CB::GAC Aii','GAC Aii::CB', inplace=True)\n",
    "AiiGJPartnersDF.replace('::GAC Aii','GAC Aii::Unk', inplace=True)\n",
    "AiiGJPartnersDF.replace('Unk::GAC Aii','GAC Aii::Unk', inplace=True)\n",
    "AiiGJPartnersDF.replace('GAC Aii::','GAC Aii::Unk', inplace=True)\n",
    "AiiGJPartnersDF.replace('NULL::GAC Aii','GAC Aii::Unk', inplace=True)\n",
    "AiiGJPartnersDF.replace('AC::GAC Aii','GAC Aii::AC', inplace=True)\n",
    "AiiGJPartnersDF.replace('yAC::GAC Aii','GAC Aii::yAC', inplace=True)\n",
    "AiiGJPartnersDF.replace('CBa::GAC Aii','GAC Aii::CBa', inplace=True)"
   ],
   "metadata": {
    "collapsed": false,
    "pycharm": {
     "name": "#%%\n"
    }
   }
  },
  {
   "cell_type": "code",
   "execution_count": 45,
   "outputs": [
    {
     "data": {
      "text/plain": "     index  SourceParent SourceParentLabel  SourceStructureType  SourceID  \\\n208     19           192           GAC Aii                   28     27678   \n210     21           192           GAC Aii                   28     27685   \n213     24           192           GAC Aii                   28     47267   \n218     29           265           GAC Aii                   28     35609   \n219     30           265           GAC Aii                   28     44365   \n..     ...           ...               ...                  ...       ...   \n979     69           410           GAC Aii                   28    160496   \n982     72           410           GAC Aii                   28    165411   \n983     73           410           GAC Aii                   28    166099   \n988     78           410           GAC Aii                   28     22675   \n989     79           410           GAC Aii                   28     17501   \n\n     TargetID  TargetParent TargetParentLabel         GJArea Volume  \\\n208     26366           265           GAC Aii   55329.761365   RPC1   \n210     26417           265           GAC Aii   66751.879034   RPC1   \n213     47268           265           GAC Aii   20008.741662   RPC1   \n218     43669           192           GAC Aii   32229.208913   RPC1   \n219     43998           192           GAC Aii   20553.533205   RPC1   \n..        ...           ...               ...            ...    ...   \n979    160497          2610           GAC Aii   30559.821164    RC1   \n982    165410           514           GAC Aii  148757.071518    RC1   \n983    166098          2610           GAC Aii  243399.914562    RC1   \n988     22676          2610           GAC Aii   69174.731557    RC1   \n989     17500          2610           GAC Aii  103876.852193    RC1   \n\n    AiiQueried           GJMotif  \n208        265  GAC Aii::GAC Aii  \n210        265  GAC Aii::GAC Aii  \n213        265  GAC Aii::GAC Aii  \n218        265  GAC Aii::GAC Aii  \n219        265  GAC Aii::GAC Aii  \n..         ...               ...  \n979        410  GAC Aii::GAC Aii  \n982        410  GAC Aii::GAC Aii  \n983        410  GAC Aii::GAC Aii  \n988        410  GAC Aii::GAC Aii  \n989        410  GAC Aii::GAC Aii  \n\n[139 rows x 12 columns]",
      "text/html": "<div>\n<style scoped>\n    .dataframe tbody tr th:only-of-type {\n        vertical-align: middle;\n    }\n\n    .dataframe tbody tr th {\n        vertical-align: top;\n    }\n\n    .dataframe thead th {\n        text-align: right;\n    }\n</style>\n<table border=\"1\" class=\"dataframe\">\n  <thead>\n    <tr style=\"text-align: right;\">\n      <th></th>\n      <th>index</th>\n      <th>SourceParent</th>\n      <th>SourceParentLabel</th>\n      <th>SourceStructureType</th>\n      <th>SourceID</th>\n      <th>TargetID</th>\n      <th>TargetParent</th>\n      <th>TargetParentLabel</th>\n      <th>GJArea</th>\n      <th>Volume</th>\n      <th>AiiQueried</th>\n      <th>GJMotif</th>\n    </tr>\n  </thead>\n  <tbody>\n    <tr>\n      <th>208</th>\n      <td>19</td>\n      <td>192</td>\n      <td>GAC Aii</td>\n      <td>28</td>\n      <td>27678</td>\n      <td>26366</td>\n      <td>265</td>\n      <td>GAC Aii</td>\n      <td>55329.761365</td>\n      <td>RPC1</td>\n      <td>265</td>\n      <td>GAC Aii::GAC Aii</td>\n    </tr>\n    <tr>\n      <th>210</th>\n      <td>21</td>\n      <td>192</td>\n      <td>GAC Aii</td>\n      <td>28</td>\n      <td>27685</td>\n      <td>26417</td>\n      <td>265</td>\n      <td>GAC Aii</td>\n      <td>66751.879034</td>\n      <td>RPC1</td>\n      <td>265</td>\n      <td>GAC Aii::GAC Aii</td>\n    </tr>\n    <tr>\n      <th>213</th>\n      <td>24</td>\n      <td>192</td>\n      <td>GAC Aii</td>\n      <td>28</td>\n      <td>47267</td>\n      <td>47268</td>\n      <td>265</td>\n      <td>GAC Aii</td>\n      <td>20008.741662</td>\n      <td>RPC1</td>\n      <td>265</td>\n      <td>GAC Aii::GAC Aii</td>\n    </tr>\n    <tr>\n      <th>218</th>\n      <td>29</td>\n      <td>265</td>\n      <td>GAC Aii</td>\n      <td>28</td>\n      <td>35609</td>\n      <td>43669</td>\n      <td>192</td>\n      <td>GAC Aii</td>\n      <td>32229.208913</td>\n      <td>RPC1</td>\n      <td>265</td>\n      <td>GAC Aii::GAC Aii</td>\n    </tr>\n    <tr>\n      <th>219</th>\n      <td>30</td>\n      <td>265</td>\n      <td>GAC Aii</td>\n      <td>28</td>\n      <td>44365</td>\n      <td>43998</td>\n      <td>192</td>\n      <td>GAC Aii</td>\n      <td>20553.533205</td>\n      <td>RPC1</td>\n      <td>265</td>\n      <td>GAC Aii::GAC Aii</td>\n    </tr>\n    <tr>\n      <th>...</th>\n      <td>...</td>\n      <td>...</td>\n      <td>...</td>\n      <td>...</td>\n      <td>...</td>\n      <td>...</td>\n      <td>...</td>\n      <td>...</td>\n      <td>...</td>\n      <td>...</td>\n      <td>...</td>\n      <td>...</td>\n    </tr>\n    <tr>\n      <th>979</th>\n      <td>69</td>\n      <td>410</td>\n      <td>GAC Aii</td>\n      <td>28</td>\n      <td>160496</td>\n      <td>160497</td>\n      <td>2610</td>\n      <td>GAC Aii</td>\n      <td>30559.821164</td>\n      <td>RC1</td>\n      <td>410</td>\n      <td>GAC Aii::GAC Aii</td>\n    </tr>\n    <tr>\n      <th>982</th>\n      <td>72</td>\n      <td>410</td>\n      <td>GAC Aii</td>\n      <td>28</td>\n      <td>165411</td>\n      <td>165410</td>\n      <td>514</td>\n      <td>GAC Aii</td>\n      <td>148757.071518</td>\n      <td>RC1</td>\n      <td>410</td>\n      <td>GAC Aii::GAC Aii</td>\n    </tr>\n    <tr>\n      <th>983</th>\n      <td>73</td>\n      <td>410</td>\n      <td>GAC Aii</td>\n      <td>28</td>\n      <td>166099</td>\n      <td>166098</td>\n      <td>2610</td>\n      <td>GAC Aii</td>\n      <td>243399.914562</td>\n      <td>RC1</td>\n      <td>410</td>\n      <td>GAC Aii::GAC Aii</td>\n    </tr>\n    <tr>\n      <th>988</th>\n      <td>78</td>\n      <td>410</td>\n      <td>GAC Aii</td>\n      <td>28</td>\n      <td>22675</td>\n      <td>22676</td>\n      <td>2610</td>\n      <td>GAC Aii</td>\n      <td>69174.731557</td>\n      <td>RC1</td>\n      <td>410</td>\n      <td>GAC Aii::GAC Aii</td>\n    </tr>\n    <tr>\n      <th>989</th>\n      <td>79</td>\n      <td>410</td>\n      <td>GAC Aii</td>\n      <td>28</td>\n      <td>17501</td>\n      <td>17500</td>\n      <td>2610</td>\n      <td>GAC Aii</td>\n      <td>103876.852193</td>\n      <td>RC1</td>\n      <td>410</td>\n      <td>GAC Aii::GAC Aii</td>\n    </tr>\n  </tbody>\n</table>\n<p>139 rows × 12 columns</p>\n</div>"
     },
     "execution_count": 45,
     "metadata": {},
     "output_type": "execute_result"
    }
   ],
   "source": [
    "#Check for duplicates or multipartner GJs\n",
    "duplicates = AiiGJPartnersDF[AiiGJPartnersDF.duplicated('SourceID')]\n",
    "\n",
    "duplicates"
   ],
   "metadata": {
    "collapsed": false,
    "pycharm": {
     "name": "#%%\n"
    }
   }
  },
  {
   "cell_type": "code",
   "execution_count": 46,
   "outputs": [],
   "source": [
    "#Remove duplicated structures\n",
    "AiiGJPartnersDF = pd.DataFrame(AiiGJPartnersDF.drop_duplicates('SourceID').reset_index())"
   ],
   "metadata": {
    "collapsed": false,
    "pycharm": {
     "name": "#%%\n"
    }
   }
  },
  {
   "cell_type": "code",
   "execution_count": 47,
   "outputs": [
    {
     "data": {
      "text/plain": "AiiQueried  GJMotif         \n1685        GAC Aii::GAC Aii     25\n            GAC Aii::CBb         21\n            GAC Aii::RodBC        9\n            GAC Aii::Unk          5\n            GAC Aii::yAC          1\n192         GAC Aii::GAC Aii     42\n            GAC Aii::CBb         40\n            GAC Aii::RodBC        8\n            GAC Aii::Unk          5\n            GAC Aii::AC           2\n            GAC Aii::CBa          2\n            GAC Aii::BC           1\n2610        GAC Aii::CBb         71\n            GAC Aii::GAC Aii     58\n            GAC Aii::Unk          2\n            GAC Aii::CB           1\n262         GAC Aii::GAC Aii     43\n            GAC Aii::CBb         24\n            GAC Aii::Unk         12\n            GAC Aii::RodBC        9\n            GAC Aii::BC           1\n265         GAC Aii::GAC Aii     31\n            GAC Aii::CBb         23\n            GAC Aii::RodBC        8\n            GAC Aii::Unk          8\n2710        GAC Aii::GAC Aii     22\n            GAC Aii::CBb         21\n            GAC Aii::RodBC       10\n            GAC Aii::Unk          4\n            GAC Aii::BC           1\n3679        GAC Aii::GAC Aii     61\n            GAC Aii::CBb         58\n            GAC Aii::Unk          2\n410         GAC Aii::GAC Aii     54\n            GAC Aii::CBb         36\n            GAC Aii::Unk          4\n            GAC Aii::CB           1\n514         GAC Aii::GAC Aii    100\n            GAC Aii::CBb         48\n            GAC Aii::Unk          1\nName: GJMotif, dtype: int64"
     },
     "execution_count": 47,
     "metadata": {},
     "output_type": "execute_result"
    }
   ],
   "source": [
    "AiiGJPartnersDF.groupby(\"AiiQueried\")['GJMotif'].value_counts()"
   ],
   "metadata": {
    "collapsed": false,
    "pycharm": {
     "name": "#%%\n"
    }
   }
  },
  {
   "cell_type": "code",
   "execution_count": 48,
   "outputs": [],
   "source": [
    "#Write out  DFs to excel files for Tableau import/visualization\n",
    "AiiGJPartnersDF.to_excel(r'D:\\Documents\\Data\\RPC1\\Aii_GAC_Project\\dfExports\\AiiGJPartners.xlsx')"
   ],
   "metadata": {
    "collapsed": false,
    "pycharm": {
     "name": "#%%\n"
    }
   }
  }
 ],
 "metadata": {
  "kernelspec": {
   "display_name": "Python 3",
   "language": "python",
   "name": "python3"
  },
  "language_info": {
   "codemirror_mode": {
    "name": "ipython",
    "version": 2
   },
   "file_extension": ".py",
   "mimetype": "text/x-python",
   "name": "python",
   "nbconvert_exporter": "python",
   "pygments_lexer": "ipython2",
   "version": "2.7.6"
  }
 },
 "nbformat": 4,
 "nbformat_minor": 0
}